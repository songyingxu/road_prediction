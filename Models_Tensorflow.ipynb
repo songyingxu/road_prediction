{
  "nbformat": 4,
  "nbformat_minor": 0,
  "metadata": {
    "colab": {
      "name": "NN_deforestation_tf.ipynb",
      "version": "0.3.2",
      "provenance": [],
      "collapsed_sections": []
    },
    "kernelspec": {
      "name": "python3",
      "display_name": "Python 3"
    },
    "accelerator": "GPU"
  },
  "cells": [
    {
      "metadata": {
        "id": "p3CJbPhZVx2G",
        "colab_type": "code",
        "outputId": "f4b56f9e-68b6-48ee-8a12-65b83bf384ba",
        "colab": {
          "base_uri": "https://localhost:8080/",
          "height": 319
        }
      },
      "cell_type": "code",
      "source": [
        "!pip install -U PyDrive"
      ],
      "execution_count": 0,
      "outputs": [
        {
          "output_type": "stream",
          "text": [
            "Collecting PyDrive\n",
            "\u001b[?25l  Downloading https://files.pythonhosted.org/packages/52/e0/0e64788e5dd58ce2d6934549676243dc69d982f198524be9b99e9c2a4fd5/PyDrive-1.3.1.tar.gz (987kB)\n",
            "\u001b[K    100% |████████████████████████████████| 993kB 7.3MB/s \n",
            "\u001b[?25hRequirement already satisfied, skipping upgrade: google-api-python-client>=1.2 in /usr/local/lib/python3.6/dist-packages (from PyDrive) (1.6.7)\n",
            "Requirement already satisfied, skipping upgrade: oauth2client>=4.0.0 in /usr/local/lib/python3.6/dist-packages (from PyDrive) (4.1.3)\n",
            "Requirement already satisfied, skipping upgrade: PyYAML>=3.0 in /usr/local/lib/python3.6/dist-packages (from PyDrive) (3.13)\n",
            "Requirement already satisfied, skipping upgrade: six<2dev,>=1.6.1 in /usr/local/lib/python3.6/dist-packages (from google-api-python-client>=1.2->PyDrive) (1.11.0)\n",
            "Requirement already satisfied, skipping upgrade: httplib2<1dev,>=0.9.2 in /usr/local/lib/python3.6/dist-packages (from google-api-python-client>=1.2->PyDrive) (0.11.3)\n",
            "Requirement already satisfied, skipping upgrade: uritemplate<4dev,>=3.0.0 in /usr/local/lib/python3.6/dist-packages (from google-api-python-client>=1.2->PyDrive) (3.0.0)\n",
            "Requirement already satisfied, skipping upgrade: pyasn1>=0.1.7 in /usr/local/lib/python3.6/dist-packages (from oauth2client>=4.0.0->PyDrive) (0.4.4)\n",
            "Requirement already satisfied, skipping upgrade: rsa>=3.1.4 in /usr/local/lib/python3.6/dist-packages (from oauth2client>=4.0.0->PyDrive) (4.0)\n",
            "Requirement already satisfied, skipping upgrade: pyasn1-modules>=0.0.5 in /usr/local/lib/python3.6/dist-packages (from oauth2client>=4.0.0->PyDrive) (0.2.2)\n",
            "Building wheels for collected packages: PyDrive\n",
            "  Running setup.py bdist_wheel for PyDrive ... \u001b[?25l-\b \b\\\b \bdone\n",
            "\u001b[?25h  Stored in directory: /root/.cache/pip/wheels/fa/d2/9a/d3b6b506c2da98289e5d417215ce34b696db856643bad779f4\n",
            "Successfully built PyDrive\n",
            "Installing collected packages: PyDrive\n",
            "Successfully installed PyDrive-1.3.1\n"
          ],
          "name": "stdout"
        }
      ]
    },
    {
      "metadata": {
        "scrolled": true,
        "id": "CsOaqllIU0bs",
        "colab_type": "code",
        "colab": {}
      },
      "cell_type": "code",
      "source": [
        "import os\n",
        "import pandas as pd\n",
        "import numpy as np\n",
        "import matplotlib.pyplot as plt\n",
        "import seaborn as sns\n",
        "from pprint import pprint\n",
        "from pathlib import Path\n",
        "from sklearn.tree import DecisionTreeRegressor\n",
        "from sklearn.ensemble import RandomForestRegressor, RandomForestClassifier\n",
        "from sklearn.model_selection import train_test_split\n",
        "pd.set_option('display.max_columns', None)\n",
        "import warnings\n",
        "from IPython.display import display, Markdown\n",
        "\n",
        "from sklearn.feature_selection import SelectKBest, chi2, mutual_info_classif\n",
        "from sklearn.preprocessing import MinMaxScaler\n",
        "from sklearn.preprocessing import StandardScaler\n",
        "from sklearn.decomposition import PCA\n",
        "from sklearn.ensemble import GradientBoostingClassifier, RandomForestClassifier, RandomForestRegressor\n",
        "from sklearn.model_selection import cross_val_score, GridSearchCV\n",
        "from sklearn.metrics import classification_report, confusion_matrix\n",
        "from sklearn.linear_model import LogisticRegression\n",
        "from sklearn.naive_bayes import GaussianNB\n",
        "from sklearn.ensemble import RandomForestClassifier\n",
        "import plotly\n",
        "plotly.tools.set_credentials_file(username='glarrea', api_key='DIZJYE2ZGzQ5NHiRZ7xK')\n",
        "\n",
        "import plotly.plotly as py\n",
        "import plotly.graph_objs as go\n",
        "import scipy.cluster.hierarchy as hac\n",
        "\n",
        "#Import authentication libraries\n",
        "\n",
        "from google.colab import auth\n",
        "from pydrive.auth import GoogleAuth\n",
        "from pydrive.drive import GoogleDrive\n",
        "from oauth2client.client import GoogleCredentials\n",
        "\n",
        "%matplotlib inline\n",
        "%config IPCompleter.greedy=True\n",
        "warnings.filterwarnings('ignore')\n",
        "sns.set()\n",
        "%matplotlib inline"
      ],
      "execution_count": 0,
      "outputs": []
    },
    {
      "metadata": {
        "id": "xvNrv730U36I",
        "colab_type": "code",
        "colab": {}
      },
      "cell_type": "code",
      "source": [
        "auth.authenticate_user()\n",
        "gauth = GoogleAuth()\n",
        "gauth.credentials = GoogleCredentials.get_application_default()\n",
        "drive = GoogleDrive(gauth)\n"
      ],
      "execution_count": 0,
      "outputs": []
    },
    {
      "metadata": {
        "id": "vk0W0bMTU3vg",
        "colab_type": "code",
        "colab": {}
      },
      "cell_type": "code",
      "source": [
        "folder_id='1ueCCZhalRvmM2nXLA1gZihsYJHDNqDXr'\n",
        "# folder_id='1uXkcRXuQ5fFG0S8mLW67ewj_jsqAb_Ff'"
      ],
      "execution_count": 0,
      "outputs": []
    },
    {
      "metadata": {
        "id": "oRckEUfMftat",
        "colab_type": "code",
        "outputId": "77be11e5-21cf-4169-f8f1-2cfde0add6ba",
        "colab": {
          "base_uri": "https://localhost:8080/",
          "height": 538
        }
      },
      "cell_type": "code",
      "source": [
        "# # Auto-iterate through all files in the midi folder.\n",
        "file_list = drive.ListFile({'q': \"'{0}' in parents and trashed=false\".format(folder_id)}).GetList()\n",
        "for file1 in file_list:\n",
        "  print('title: {0}, id: {1}'.format(file1['title'], file1['id']))"
      ],
      "execution_count": 0,
      "outputs": [
        {
          "output_type": "stream",
          "text": [
            "title: loss_per_meter.csv, id: 10dRAVu_u5Bf9RSmZzVE9i9BLVtdGRZDy\n",
            "title: training_deforested_7x7_roi_8_v3.csv, id: 1_e4ENK7gz1umTLPc0oxrQO3AjcVXOZ1w\n",
            "title: training_deforested_7x7_roi_6_v3.csv, id: 1Vcfv1OR3BNRbokA8nfj8NJ7qK0ZSGqMy\n",
            "title: training_deforested_7x7_roi_3_v3.csv, id: 1SlXyVpnD4HtisoAYG0_vQL9QjUaRaSWm\n",
            "title: training_deforested_7x7_roi_4_v3.csv, id: 1LuBmCNtc4I1pHMd305WRcy_OzUWBsjUB\n",
            "title: training_deforested_7x7_roi_1_v3.csv, id: 12o5qOpcJnlZ3WSrnh_8e3vA7Bu9qimvv\n",
            "title: validation_classified_no_rate.csv, id: 1C7R9Ptl0C8-bw_7g1KI1MV-3St6xMhFm\n",
            "title: validation_classified_no_lonlat.csv, id: 1PVyT-wi1avbFa4bw-NsUn6D3FJetmsur\n",
            "title: training_deforested_7x7_roi_1.csv, id: 1YB-7bgSzP72H83gGL2lXhA6DhUjuxIwV\n",
            "title: training_mixed_v26oct.csv, id: 18uZX1BfhIav7HzfwdTVfSdXaqdyP5XQk\n",
            "title: training_deforested_7x7_withrate_roi.csv, id: 1xqGX7S-_NJkr32aBoPnULrQLMh3kn9B8\n",
            "title: training_deforested_7x7_with_cluster.csv, id: 1RTo3jp5lEilp2A07CCS0U0QA-xyzB0pK\n",
            "title: validation_classified, id: 1e27OXDJDY7Yis6oXMXlWOO855xYQCJ9fCxrAhJM7NZ4\n",
            "title: validation_classified.csv, id: 11jsfA22-Mnp8cl9J9NLD7rMUwnKgAGtF\n",
            "title: training_deforested_7x7_geom.csv, id: 1DYMj7dh198WTIwLWVm47hkAqBQYxS_YG\n",
            "title: training_mixed_v29oct_300m_geom.csv, id: 1CS4G80atcFVbLJhzRDvsyLVNgVekbUOl\n",
            "title: training_mixed_v29oct_300m, id: 1R8uBi9AzYG9gh-TbhV76rp3Qly-ZxDUVoJZIIO-2k9c\n",
            "title: training_mixed_v29oct_300m.csv, id: 1aXWyqN8iVkbcmfiaJbqeHky6_YfK6azB\n",
            "title: training_mixed_29oct_10k, id: 1ccai5kYbZGAyE6i6SHQS2I-H-gIJ068cYesYTJcaoDM\n",
            "title: training_mixed_29oct_10k, id: 1OMDx4iPGe1N40q_EUYwbQZMF6rL6xQVjE4TCCz9kSn4\n",
            "title: training_mixed_29oct_10k.csv, id: 19WLKMaDq7gRNySDfi6nJNJvsR-zye8S9\n",
            "title: training_mixed_28oct_labeled, id: 12d4XHurQI991oilR_qRhcL3HaDVILUPwoyjYXcF0wmU\n",
            "title: training_mixed_28oct_labeled.csv, id: 16E6MUJSOFDrUeKhUHv5TgrfaxGfrA5Rs\n",
            "title: training_mixed_v28oct_labeled_mdd, id: 15G_kXAq0MU0UHSAXUU6mFMTiJ-EXAagB7Qp8OkVeHgc\n",
            "title: training_mixed_v28oct_labeled_mdd.csv, id: 1TBjJx4GeYSy8M8WD4NPV7g2NFaxElFqF\n",
            "title: training_mixed_v27oct, id: 1vkOtbQjanQP4BHlZQq0X9F-6dt7iEWcm9vCDqDgjBug\n",
            "title: training_mixed_100.csv, id: 1wntD8wZSxFRj1mtUKtneipdfpTDjaY5G\n",
            "title: training_mixed.csv, id: 1epxJfIYxYD8d1WMYAwkNQ_MZYg7UrddE\n",
            "title: clusters.tif, id: 1OgLrqhTrYTrGgZUlDCK7_OLERsLiChi1\n",
            "title: ejepliyo.csv, id: 1_lxh2t3J-kktnVcPqR1VfFXq6t-Bx9-Z\n",
            "title: database, id: 1KssOGKGSfsehNUCQ49HNmcw3jIvwVBZE\n"
          ],
          "name": "stdout"
        }
      ]
    },
    {
      "metadata": {
        "id": "SlJv9xhOgub-",
        "colab_type": "code",
        "colab": {}
      },
      "cell_type": "code",
      "source": [
        "# Download all midi files\n",
        "for file1 in file_list:\n",
        "  file_id=file1['id']\n",
        "  file_title = file1['title']\n",
        "  if '.csv' in file_title:\n",
        "    drive.CreateFile({'id': file_id}).GetContentFile(file_title)\n",
        "  "
      ],
      "execution_count": 0,
      "outputs": []
    },
    {
      "metadata": {
        "id": "H8ftUBuqhshf",
        "colab_type": "code",
        "outputId": "6ec998ab-6147-492f-d72d-bb1f275b99a9",
        "colab": {
          "base_uri": "https://localhost:8080/",
          "height": 420
        }
      },
      "cell_type": "code",
      "source": [
        "!ls"
      ],
      "execution_count": 0,
      "outputs": [
        {
          "output_type": "stream",
          "text": [
            "adc.json\n",
            "ejepliyo.csv\n",
            "loss_per_meter.csv\n",
            "sample_data\n",
            "training_deforested_7x7_geom.csv\n",
            "training_deforested_7x7_roi_1.csv\n",
            "training_deforested_7x7_roi_1_v3.csv\n",
            "training_deforested_7x7_roi_3_v3.csv\n",
            "training_deforested_7x7_roi_4_v3.csv\n",
            "training_deforested_7x7_roi_6_v3.csv\n",
            "training_deforested_7x7_roi_8_v3.csv\n",
            "training_deforested_7x7_with_cluster.csv\n",
            "training_deforested_7x7_withrate_roi.csv\n",
            "training_mixed_100.csv\n",
            "training_mixed_28oct_labeled.csv\n",
            "training_mixed_29oct_10k.csv\n",
            "training_mixed.csv\n",
            "training_mixed_v26oct.csv\n",
            "training_mixed_v28oct_labeled_mdd.csv\n",
            "training_mixed_v29oct_300m.csv\n",
            "training_mixed_v29oct_300m_geom.csv\n",
            "validation_classified.csv\n",
            "validation_classified_no_lonlat.csv\n",
            "validation_classified_no_rate.csv\n"
          ],
          "name": "stdout"
        }
      ]
    },
    {
      "metadata": {
        "id": "-LAcOchHU0bz",
        "colab_type": "code",
        "colab": {}
      },
      "cell_type": "code",
      "source": [
        "from sklearn import metrics\n",
        "\n",
        "def print_binary_confusion_matrix(matrix):\n",
        "    TN = matrix[0,0]\n",
        "    FN = matrix[1,0]\n",
        "    FP = matrix[0,1]\n",
        "    TP = matrix[1,1]\n",
        "\n",
        "    print ('              +-----------------+')\n",
        "    print ('              |   Predicción    |')\n",
        "    print ('              +-----------------+')\n",
        "    print ('              |    +   |    -   |')\n",
        "    print ('+-------+-----+--------+--------+')\n",
        "    print ('| Valor |  +  |  {:5d} |  {:5d} |'.format(TP, FN) )\n",
        "    print ('| real  +-----+--------+--------+')\n",
        "    print ('|       |  -  |  {:5d} |  {:5d} |'.format(FP, TN) )\n",
        "    print ('+-------+-----+--------+--------+')"
      ],
      "execution_count": 0,
      "outputs": []
    },
    {
      "metadata": {
        "id": "iS67URyaU0b_",
        "colab_type": "text"
      },
      "cell_type": "markdown",
      "source": [
        "## Read data"
      ]
    },
    {
      "metadata": {
        "scrolled": false,
        "id": "3TMLL2h2U0cB",
        "colab_type": "code",
        "colab": {}
      },
      "cell_type": "code",
      "source": [
        "df_1 = pd.read_csv('training_deforested_7x7_roi_1_v3.csv', sep=',')\n",
        "df_3 = pd.read_csv('training_deforested_7x7_roi_3_v3.csv', sep=',')\n",
        "df_4 = pd.read_csv('training_deforested_7x7_roi_4_v3.csv', sep=',')\n",
        "df_6 = pd.read_csv('training_deforested_7x7_roi_6_v3.csv', sep=',')\n",
        "df_8 = pd.read_csv('training_deforested_7x7_roi_8_v3.csv', sep=',')\n",
        "\n",
        "datasets = [df_1,df_3,df_4,df_6,df_8]\n",
        "# datasets = [df_1] #for testing\n",
        "datasets = list(map(lambda x: x.drop(['carbon_density','system:index', '.geo','cluster_mean'],axis=1), datasets))\n"
      ],
      "execution_count": 0,
      "outputs": []
    },
    {
      "metadata": {
        "id": "RQXOGBe_U0cG",
        "colab_type": "text"
      },
      "cell_type": "markdown",
      "source": [
        "## Explore variables"
      ]
    },
    {
      "metadata": {
        "id": "NQlZqolwU0cI",
        "colab_type": "code",
        "outputId": "5a0bd553-2ac3-44d1-d530-81e8c787f707",
        "colab": {
          "base_uri": "https://localhost:8080/",
          "height": 101
        }
      },
      "cell_type": "code",
      "source": [
        "for i in datasets:\n",
        "    print(np.unique(i['cluster'], return_counts=True))"
      ],
      "execution_count": 0,
      "outputs": [
        {
          "output_type": "stream",
          "text": [
            "(array([0, 1]), array([9282, 9996]))\n",
            "(array([0, 1]), array([9993, 9999]))\n",
            "(array([0, 1]), array([ 9998, 10000]))\n",
            "(array([0, 1]), array([ 9958, 10000]))\n",
            "(array([0, 1]), array([ 9998, 10000]))\n"
          ],
          "name": "stdout"
        }
      ]
    },
    {
      "metadata": {
        "id": "uN-CTCKFU0dc",
        "colab_type": "text"
      },
      "cell_type": "markdown",
      "source": [
        "## NN"
      ]
    },
    {
      "metadata": {
        "id": "hyJM_VgtvLTs",
        "colab_type": "code",
        "colab": {}
      },
      "cell_type": "code",
      "source": [
        "import tensorflow as tf\n",
        "import pandas as pd\n",
        "from sklearn.utils import shuffle\n",
        "from sklearn.model_selection import train_test_split\n",
        "from sklearn import preprocessing\n",
        "import numpy as np\n",
        "import os\n",
        "import time\n",
        "import itertools\n"
      ],
      "execution_count": 0,
      "outputs": []
    },
    {
      "metadata": {
        "id": "xgRfKYXA5BDo",
        "colab_type": "code",
        "colab": {}
      },
      "cell_type": "code",
      "source": [
        "df_1 = pd.read_csv('training_deforested_7x7_roi_1_v3.csv', sep=',')\n",
        "df_3 = pd.read_csv('training_deforested_7x7_roi_3_v3.csv', sep=',')\n",
        "df_4 = pd.read_csv('training_deforested_7x7_roi_4_v3.csv', sep=',')\n",
        "df_6 = pd.read_csv('training_deforested_7x7_roi_6_v3.csv', sep=',')\n",
        "df_8 = pd.read_csv('training_deforested_7x7_roi_8_v3.csv', sep=',')\n",
        "\n",
        "datasets = [df_1,df_3,df_4,df_6,df_8]\n",
        "# datasets = [df_1] #for testing\n",
        "datasets = list(map(lambda x: x.drop(['carbon_density','system:index', '.geo','cluster_mean'],axis=1), datasets))\n",
        "df_1 = df_1.drop(['carbon_density','system:index', '.geo','cluster_mean'],axis=1)\n"
      ],
      "execution_count": 0,
      "outputs": []
    },
    {
      "metadata": {
        "id": "-tyRdEV6NXOB",
        "colab_type": "code",
        "colab": {}
      },
      "cell_type": "code",
      "source": [
        "test_file = !gsutil ls gs://road_detection/\n",
        "test_file=test_file[:-1]"
      ],
      "execution_count": 0,
      "outputs": []
    },
    {
      "metadata": {
        "id": "IFhbb3zsHbfY",
        "colab_type": "code",
        "colab": {}
      },
      "cell_type": "code",
      "source": [
        "driveDataset = tf.data.TFRecordDataset(test_file, compression_type='GZIP')\n",
        "\n",
        "# Names of the features.\n",
        "bands =  ['distance_dep','distance_vec','distance_nac','altitude','distance_parks','distance_buffer',\n",
        "              'distance_villages','latitude','longitude','distance_any']\n",
        "bands.sort() #to match the order of exported variables\n",
        "featureNames = list(bands)\n",
        "PATCH_WIDTH = 256\n",
        "PATCH_HEIGHT = 256\n",
        "PATCH_DIMENSIONS_FLAT = [PATCH_WIDTH * PATCH_HEIGHT, 1]\n",
        "\n",
        "# Feature columns\n",
        "columns = [\n",
        "  tf.FixedLenFeature(shape=PATCH_DIMENSIONS_FLAT, dtype=tf.int64) for k in featureNames\n",
        "]\n",
        "featuresDict = dict(zip(featureNames, columns))\n",
        "# mean=scaler.mean_\n",
        "# scale=scaler.scale_\n",
        "def predict_input_fn(fileNames,mean_,scale_):\n",
        "  \n",
        "  # Note that you can make one dataset from many files by specifying a list.\n",
        "  driveDataset = tf.data.TFRecordDataset(fileNames, compression_type='GZIP')\n",
        "  \n",
        "  def normalize(value,mean_,scale_):\n",
        "    mean =tf.convert_to_tensor(mean_, dtype=tf.float32)\n",
        "    mean= tf.transpose(tf.reshape(mean, [10,1]),[1,0])\n",
        "\n",
        "    scale=tf.convert_to_tensor(scale_, dtype=tf.float32)\n",
        "    scale= tf.transpose(tf.reshape(scale, [10,1]),[1,0])\n",
        "\n",
        "    new = tf.divide(tf.subtract(value,mean),scale)\n",
        "    return new\n",
        "  def parse(example_proto):\n",
        "    parsed_features = tf.parse_single_example(example_proto, featuresDict)\n",
        "    altitude=tf.cast(parsed_features['altitude'], tf.float32),\n",
        "    distance_any=tf.cast(parsed_features['distance_any'], tf.float32),\n",
        "    distance_buffer=tf.cast(parsed_features['distance_buffer'], tf.float32),\n",
        "    distance_dep=tf.cast(parsed_features['distance_dep'], tf.float32),\n",
        "    distance_nac=tf.cast(parsed_features['distance_nac'], tf.float32),\n",
        "    distance_parks=tf.cast(parsed_features['distance_parks'], tf.float32),\n",
        "    distance_vec=tf.cast(parsed_features['distance_vec'], tf.float32),\n",
        "    distance_villages=tf.cast(parsed_features['distance_villages'], tf.float32),\n",
        "    latitude=tf.cast(parsed_features['latitude'], tf.float32),\n",
        "    longitude=tf.cast(parsed_features['longitude'], tf.float32),\n",
        "  #   data=np.array([altitude,distance_any,distance_buffer,distance_dep,\n",
        "  #             distance_nac,distance_parks,distance_vec,distance_villages,latitude,longitude]).reshape(1,10).flatten()\n",
        "    data = tf.concat([altitude,distance_any,distance_buffer,distance_dep,\n",
        "              distance_nac,distance_parks,distance_vec,distance_villages,latitude,longitude],axis=0)\n",
        "    data = tf.transpose(data, [1, 0, 2])\n",
        "    return data\n",
        "  \n",
        "  parsedDataset = driveDataset.map(parse, num_parallel_calls=5)\n",
        "  parsedDataset = parsedDataset.flat_map(lambda features: tf.data.Dataset.from_tensor_slices(features))  \n",
        "#   parsedDataset = parsedDataset.batch(PATCH_WIDTH * PATCH_HEIGHT)\n",
        "  iterator = parsedDataset.make_one_shot_iterator().get_next()\n",
        "  iterator =tf.transpose(iterator, [1,0])\n",
        "  tensor = normalize(iterator,mean_,scale_)\n",
        "  return tensor\n",
        "\n",
        "\n",
        "######################\n",
        "def parse(example_proto):\n",
        "  parsed_features = tf.parse_single_example(example_proto, featuresDict)\n",
        "  altitude=tf.cast(parsed_features['altitude'], tf.float32),\n",
        "  distance_any=tf.cast(parsed_features['distance_any'], tf.float32),\n",
        "  distance_buffer=tf.cast(parsed_features['distance_buffer'], tf.float32),\n",
        "  distance_dep=tf.cast(parsed_features['distance_dep'], tf.float32),\n",
        "  distance_nac=tf.cast(parsed_features['distance_nac'], tf.float32),\n",
        "  distance_parks=tf.cast(parsed_features['distance_parks'], tf.float32),\n",
        "  distance_vec=tf.cast(parsed_features['distance_vec'], tf.float32),\n",
        "  distance_villages=tf.cast(parsed_features['distance_villages'], tf.float32),\n",
        "  latitude=tf.cast(parsed_features['latitude'], tf.float32),\n",
        "  longitude=tf.cast(parsed_features['longitude'], tf.float32),\n",
        "#   data=np.array([altitude,distance_any,distance_buffer,distance_dep,\n",
        "#             distance_nac,distance_parks,distance_vec,distance_villages,latitude,longitude]).reshape(1,10).flatten()\n",
        "  data = tf.concat([altitude,distance_any,distance_buffer,distance_dep,\n",
        "            distance_nac,distance_parks,distance_vec,distance_villages,latitude,longitude],axis=0)\n",
        "#   data = tf.squeeze(tf.transpose(data, [1, 0, 2]))\n",
        "  data = tf.transpose(data, [1, 0, 2])\n",
        "  \n",
        "  return data\n",
        "\n",
        "\n",
        "def normalize(value,mean_,scale_):\n",
        "  mean =tf.convert_to_tensor(mean_, dtype=tf.float32)\n",
        "  mean= tf.transpose(tf.reshape(mean, [10,1]),[1,0])\n",
        "  \n",
        "  scale=tf.convert_to_tensor(scale_, dtype=tf.float32)\n",
        "  scale= tf.transpose(tf.reshape(scale, [10,1]),[1,0])\n",
        "\n",
        "  new = tf.divide(tf.subtract(value,mean),scale)\n",
        "  return new\n",
        "\n",
        "# # Add normalized differences and 3-D coordinates to the dataset.  Shift the label to zero.\n",
        "# def normalize(example):\n",
        "#   example['altitude'] = operation_norm(example['altitude'],mean[0],scale[0])\n",
        "#   return example\n"
      ],
      "execution_count": 0,
      "outputs": []
    },
    {
      "metadata": {
        "id": "wtT9tE8vFyaS",
        "colab_type": "code",
        "outputId": "f5900114-663a-44ad-94bb-7a58eac616be",
        "colab": {
          "base_uri": "https://localhost:8080/",
          "height": 67
        }
      },
      "cell_type": "code",
      "source": [
        "driveDataset = tf.data.TFRecordDataset(test_file, compression_type='GZIP')\n",
        "parsedDataset = driveDataset.map(parse, num_parallel_calls=5)\n",
        "parsedDataset = parsedDataset.flat_map(lambda features: tf.data.Dataset.from_tensor_slices(features))\n",
        "\n",
        "foo= parsedDataset.make_one_shot_iterator().get_next()\n",
        "aa=tf.transpose(foo, [1,0])\n",
        "aa=normalize(aa, scaler.mean_,scaler.scale_)\n",
        "\n",
        "#  print(normalize(tensor.eval(),'normie')\n",
        "with tf.Session() as sess:\n",
        "  for i in range(3):\n",
        "    print(aa.eval().shape)\n",
        "#     testo=sess.run(foo)\n",
        "#     print(sess.run(foo))\n",
        "#     print(sess.run(foo))"
      ],
      "execution_count": 0,
      "outputs": [
        {
          "output_type": "stream",
          "text": [
            "(1, 10)\n",
            "(1, 10)\n",
            "(1, 10)\n"
          ],
          "name": "stdout"
        }
      ]
    },
    {
      "metadata": {
        "id": "fvewU-6gPLSK",
        "colab_type": "code",
        "outputId": "b4dee913-89b3-4637-bc34-bebe11f1475c",
        "colab": {
          "base_uri": "https://localhost:8080/",
          "height": 34
        }
      },
      "cell_type": "code",
      "source": [
        "mean=tf.convert_to_tensor(scaler.mean_, dtype=tf.float32)\n",
        "mean= tf.transpose(tf.reshape(mean, [10,1]),[1,0])\n",
        "mean"
      ],
      "execution_count": 0,
      "outputs": [
        {
          "output_type": "execute_result",
          "data": {
            "text/plain": [
              "<tf.Tensor 'transpose_10:0' shape=(1, 10) dtype=float32>"
            ]
          },
          "metadata": {
            "tags": []
          },
          "execution_count": 149
        }
      ]
    },
    {
      "metadata": {
        "id": "w7sjKf3jk1Eh",
        "colab_type": "code",
        "colab": {}
      },
      "cell_type": "code",
      "source": [
        "# Batch Normalization func\n",
        "def batch_norm(x, train=True, name=\"batch_norm\"):\n",
        "  with tf.variable_scope(name):\n",
        "    return tf.contrib.layers.batch_norm(x,\n",
        "                                            decay=0.9,\n",
        "                                            updates_collections=None,\n",
        "                                            epsilon=1e-5,\n",
        "                                            scale=True,\n",
        "                                            scope=name)\n",
        "#Linear activation\n",
        "def dense(input_, output_size, name=None, stddev=0.02, bias_start=0.0, activation='relu'):\n",
        "    shape = input_.get_shape().as_list()\n",
        "\n",
        "    with tf.variable_scope(name):\n",
        "        matrix = tf.get_variable(\"Weights\", [shape[1], output_size], tf.float32,\n",
        "                                 tf.initializers.glorot_normal(seed=0))\n",
        "        bias = tf.get_variable(\"bias\", [output_size],\n",
        "            initializer=tf.constant_initializer(bias_start))\n",
        "        linear = tf.matmul(input_, matrix) + bias\n",
        "        if activation == 'relu':\n",
        "          return tf.nn.relu(linear, name='activation_relu')\n",
        "        if activation == 'sigmoid':\n",
        "          return tf.nn.sigmoid(linear, name='activation_relu')\n",
        "        if activation == 'logits':\n",
        "          return linear\n",
        "        \n",
        "        \n",
        "        \n",
        "#Droputout      \n",
        "def dropout(input_,name='dropout',mode='train'):\n",
        "  if mode == 'train':\n",
        "    return tf.nn.dropout(\n",
        "                x=input_,\n",
        "                keep_prob=0.2,\n",
        "                noise_shape=None,\n",
        "                seed=0,\n",
        "                name=name)\n",
        "  if mode == 'predict':\n",
        "    return input_"
      ],
      "execution_count": 0,
      "outputs": []
    },
    {
      "metadata": {
        "id": "8qHI_ES4oU4B",
        "colab_type": "code",
        "colab": {}
      },
      "cell_type": "code",
      "source": [
        "def net_0(x):\n",
        "  \n",
        "  d1= dense(x, 256,name='d1')\n",
        "  d2= dense(d1,128,name ='d2')\n",
        "  d3 = dense(d2,64, name = 'd3')\n",
        "  d4 = dense(d3,32, name = 'd4')\n",
        "  d5 = dense(d4,16, name = 'd5')\n",
        "  logits = dense(d5,1, name = 'logits', activation='logits')[:,0]\n",
        "  predicted = dense(d5,1, name = 'predicted', activation='sigmoid')[:,0]\n",
        "  return logits, predicted\n",
        "\n",
        "def net_0_1(x):\n",
        "  \n",
        "  d1= dense(x, 1024,name='d1')\n",
        "  d2= dense(d1,1024,name ='d2')\n",
        "  d3 = dense(d2,512, name = 'd3')\n",
        "  d4 = dense(d3,256, name = 'd4')\n",
        "  d5 = dense(d4,128, name = 'd5')\n",
        "  d6 = dense(d5,56, name = 'd6') \n",
        "#   dp0= dropout(d6,name='dp0')\n",
        "  logits = dense(d6,1, name = 'logits', activation='logits')[:,0]\n",
        "  predicted = dense(d6,1, name = 'predicted', activation='sigmoid')[:,0]\n",
        "  return logits, predicted\n",
        "\n",
        "\n",
        "\n",
        "def net_1(x,mode='train'):\n",
        "  \n",
        "  d1= dense(x, 512,name='d1')\n",
        "  bn1 = batch_norm(d1,name='bn1')\n",
        "  dp0= dropout(bn1,name='dp0')\n",
        "  d2= dense(dp0,128,name ='d2')\n",
        "  bn2 = batch_norm(d2,name='bn2')\n",
        "  dp1= dropout(bn2,name='dp1')\n",
        "  d3 = dense(dp1,64, name = 'd3')\n",
        "  bn3 = batch_norm(d3,name='bn3')\n",
        "  dp2= dropout(bn3,name='dp2')\n",
        "  d4 = dense(dp2,32, name = 'd4')\n",
        "  bn4 = batch_norm(d4,name='bn4')\n",
        "  dp3= dropout(bn4,name='dp3')\n",
        "  d5 = dense(dp3,16, name = 'd5')\n",
        "  bn5 = batch_norm(d5,name='bn5')\n",
        "  logits = dense(bn5,1, name = 'logits', activation='logits')[:,0]\n",
        "  predicted = dense(bn5,1, name = 'predicted', activation='sigmoid')[:,0]\n",
        "  return logits, predicted\n",
        "\n",
        "def net_2(x):\n",
        "  \n",
        "  d1= dense(x, 60,name='d1')\n",
        "  d2= dense(d1,15,name ='d2')\n",
        "  logits = dense(d2,1, name = 'logits', activation='logits')[:,0]\n",
        "  predicted = dense(d2,1, name = 'predicted', activation='sigmoid')[:,0]\n",
        "  return logits, predicted\n",
        "\n",
        "def reg_0(x):\n",
        "  \n",
        "  d1= dense(x, 120,name='d1')\n",
        "  bn1 = batch_norm(d1,name='bn1')\n",
        "  d2= dense(d1,60,name ='d2')\n",
        "  logits = dense(d2,1, name = 'logits', activation='logits')[:,0]\n",
        "  predicted = dense(d2,1, name = 'predicted', activation='sigmoid')[:,0]\n",
        "  return logits, predicted\n"
      ],
      "execution_count": 0,
      "outputs": []
    },
    {
      "metadata": {
        "id": "6gswnZcC90Fk",
        "colab_type": "code",
        "colab": {}
      },
      "cell_type": "code",
      "source": [
        "#Model preparation\n",
        "\n",
        "\n",
        "def RUN(sess,X=None,y=None,batch_size=256, epoch=100, learning_rate=0.01, \n",
        "        mode='train',name='model_1',test_file=None,mean_=None,scale_=None):\n",
        "  \n",
        "  if mode == 'train':\n",
        "    X_train, X_val, y_train, y_val = train_test_split(X,y, test_size=0.3)\n",
        "    X_tensor= tf.placeholder(tf.float32, shape=(None,X_train.shape[1]),\n",
        "                                    name='X_tensor')\n",
        "    y_tensor= tf.placeholder(tf.float32, shape=(None),\n",
        "                                    name='y_tensor')\n",
        "  if mode == 'tfrecord':  \n",
        "    X_train = predict_input_fn(test_file,mean_,scale_)\n",
        "    \n",
        "  if mode =='predict':\n",
        "    X_train = X #is not training, just the name\n",
        "    y_train = y\n",
        "    X_tensor= tf.placeholder(tf.float32, shape=(None,X_train.shape[1]),\n",
        "                                      name='X_tensor')\n",
        "    y_tensor= tf.placeholder(tf.float32, shape=(None),\n",
        "                                      name='y_tensor')\n",
        "  def model(x,y=None,name='model_1'):\n",
        "\n",
        "    if y != None:\n",
        "      with tf.variable_scope(name, reuse= tf.AUTO_REUSE):\n",
        "        logits, predicted = net_0(x)  \n",
        "        loss = tf.nn.sigmoid_cross_entropy_with_logits(_sentinel=None, \n",
        "                labels=y, logits=logits, name='loss') \n",
        "        return loss, predicted\n",
        "    if y == None:\n",
        "      with tf.variable_scope(name,reuse= tf.AUTO_REUSE):\n",
        "        logits, predicted = net_0(x)  \n",
        "      return predicted  \n",
        "   \n",
        "  if mode =='train':\n",
        "    loss,predicted = model(X_tensor, y_tensor,name='model_1')\n",
        "    opt = tf.train.AdamOptimizer(learning_rate, beta1=0.5)\n",
        "    t_vars = tf.trainable_variables()\n",
        "    model_opt=opt.minimize(loss, var_list=t_vars)\n",
        "    saver=tf.train.Saver()\n",
        "\n",
        "\n",
        "    start_time = time.time()\n",
        "    tf.global_variables_initializer().run()\n",
        "    \n",
        "    \n",
        "    for epoch in range(epoch):\n",
        "      batch_idxs = len(X_train) // batch_size\n",
        "      for idx in range(0, batch_idxs): \n",
        "        batch_X_train = X_train[idx*batch_size:(idx+1)*batch_size]\n",
        "        batch_y_train = y_train[idx*batch_size:(idx+1)*batch_size]\n",
        "\n",
        "        sess.run(model_opt, feed_dict={X_tensor: batch_X_train, y_tensor: batch_y_train})\n",
        "\n",
        "  \n",
        "      loss_print=tf.reduce_mean(loss)\n",
        "      classified = tf.to_int32(predicted > 0.5)\n",
        "      correct_train = tf.equal(classified, y_train.values)\n",
        "      correct_val = tf.equal(classified, y_val.values)\n",
        "      \n",
        "      train_loss = loss_print.eval({X_tensor: X_train, y_tensor: y_train})     \n",
        "      val_loss = loss_print.eval({X_tensor: X_val, y_tensor: y_val})\n",
        "      \n",
        "      train_acc = tf.reduce_mean(tf.cast(correct_train, tf.float32)).eval({X_tensor: X_train, y_tensor: y_train})\n",
        "      val_acc = tf.reduce_mean(tf.cast(correct_val, tf.float32)).eval({X_tensor: X_val, y_tensor: y_val})\n",
        "      saver.save(sess, './model/' + 'model.ckpt', global_step=epoch+1)\n",
        "      print(\"Epoch: [%2d] time: %4.4f, train_loss: %.8f, val_loss: %.8f, train_acc: %.8f, val_acc: %.8f\" \\\n",
        "                  % (epoch, time.time() - start_time, train_loss, val_loss,train_acc,val_acc ))\n",
        "  if mode =='predict':\n",
        "  \n",
        "    if y is not None:\n",
        "      _,predicted = model(X_tensor, y=y_tensor,name='model_1')\n",
        "      tf.global_variables_initializer().run()\n",
        "      saver=tf.train.Saver()\n",
        "      ckpt = tf.train.get_checkpoint_state('./model/')\n",
        "      saver.restore(sess, ckpt.model_checkpoint_path)\n",
        "      \n",
        "      classified = tf.to_int32(predicted > 0.5)\n",
        "      correct_prediction = tf.equal(classified, y_train)\n",
        "      accuracy = tf.reduce_mean(tf.cast(correct_prediction, tf.float32)).eval({X_tensor: X_train, y_tensor: y_train})\n",
        "      print('DA AUQIRASI', accuracy)\n",
        "      \n",
        "    if y is None:\n",
        "      predicted = model(X_tensor, y=None,name='model_1')\n",
        "      tf.global_variables_initializer().run()\n",
        "      saver=tf.train.Saver()\n",
        "      ckpt = tf.train.get_checkpoint_state('./model/')\n",
        "      saver.restore(sess, ckpt.model_checkpoint_path)\n",
        "  \n",
        "      \n",
        "      classified = tf.to_int32(predicted > 0.5).eval({X_tensor: X_train})\n",
        "#       print('class_predicted',classified)\n",
        "      return classified,predicted.eval({X_tensor: X_train})\n",
        "\n",
        "  if mode =='tfrecord':\n",
        "   \n",
        "    tf.global_variables_initializer().run()\n",
        "    saver=tf.train.Saver()\n",
        "    ckpt = tf.train.get_checkpoint_state('./model/')\n",
        "    saver.restore(sess, ckpt.model_checkpoint_path)\n",
        "    predicted = model(X_train, y=None,name='model_1')\n",
        "   \n",
        "    for i in range(0,batch_size):\n",
        "      classified = tf.to_int32(predicted > 0.5)\n",
        "      predicted_print=predicted.eval()\n",
        "#     return classified, X_train, X_train\n"
      ],
      "execution_count": 0,
      "outputs": []
    },
    {
      "metadata": {
        "id": "ClEpy_CRXKdF",
        "colab_type": "code",
        "colab": {}
      },
      "cell_type": "code",
      "source": [
        "X = df_1.drop('cluster', axis=1)\n",
        "y = df_1['cluster']\n",
        "X_trainval, X_test, y_trainval, y_test = train_test_split(X,y,test_size=0.1)\n",
        "scaler = preprocessing.StandardScaler().fit(X_trainval)\n",
        "X_trainval = scaler.transform(X_trainval)\n",
        "X_test = scaler.transform(X_test)\n",
        "\n",
        "with tf.Session() as sess:\n",
        "  RUN(X=X_trainval,y=y_trainval,sess=sess,epoch=100)\n",
        "  print(RUN(X=X_test, sess=sess,y=y_test.values,mode='predict'))"
      ],
      "execution_count": 0,
      "outputs": []
    },
    {
      "metadata": {
        "id": "-50wcGNOhsZI",
        "colab_type": "code",
        "outputId": "077fe427-16aa-4b87-a02e-6d664db1a2eb",
        "colab": {
          "base_uri": "https://localhost:8080/",
          "height": 67
        }
      },
      "cell_type": "code",
      "source": [
        "X = df_1.drop('cluster', axis=1)\n",
        "y = df_1['cluster']\n",
        "X_trainval, X_test, y_trainval, y_test = train_test_split(X,y,test_size=0.1)\n",
        "scaler = preprocessing.StandardScaler().fit(X_trainval)\n",
        "X_trainval = scaler.transform(X_trainval)\n",
        "X_test = scaler.transform(X_test)\n",
        "\n",
        "with tf.Session() as sess:\n",
        "   print(RUN(X=X_test,y=None,sess=sess,mode='predict'))"
      ],
      "execution_count": 0,
      "outputs": [
        {
          "output_type": "stream",
          "text": [
            "INFO:tensorflow:Restoring parameters from ./model/model.ckpt-100\n",
            "(array([0, 1, 1, ..., 0, 0, 1], dtype=int32), array([0.04189542, 0.92646724, 0.9990502 , ..., 0.15773933, 0.00643189,\n",
            "       0.66713613], dtype=float32))\n"
          ],
          "name": "stdout"
        }
      ]
    },
    {
      "metadata": {
        "id": "5GYAflp3-R0W",
        "colab_type": "code",
        "colab": {}
      },
      "cell_type": "code",
      "source": [
        "\n",
        "model = RUN(sess=sess,mode='tfrecord',test_file=test_file,batch_size=1,mean_=scaler.mean_,scale_=scaler.scale_)\n",
        "iterator1, iterator2 = itertools.tee(model, 2)\n",
        "\n",
        "# Iterate over the predictions, printing the class_ids and posteriors.\n",
        "for pred_dict in iterator1:\n",
        "  class_id = pred_dict['class_ids']\n",
        "  probability = pred_dict['probabilities']\n",
        "  print class_id, probability"
      ],
      "execution_count": 0,
      "outputs": []
    },
    {
      "metadata": {
        "id": "U2rWhJCdCU9k",
        "colab_type": "code",
        "outputId": "406ff634-1fa6-4f24-d468-ae1248bdbdc7",
        "colab": {
          "base_uri": "https://localhost:8080/",
          "height": 447
        }
      },
      "cell_type": "code",
      "source": [
        "with tf.Session() as sess:\n",
        "  sess.run(RUN(sess=sess,mode='tfrecord',test_file=test_file,batch_size=4,mean_=scaler.mean_,scale_=scaler.scale_))\n",
        "  "
      ],
      "execution_count": 0,
      "outputs": [
        {
          "output_type": "stream",
          "text": [
            "INFO:tensorflow:Restoring parameters from ./model/model.ckpt-100\n"
          ],
          "name": "stdout"
        },
        {
          "output_type": "error",
          "ename": "TypeError",
          "evalue": "ignored",
          "traceback": [
            "\u001b[0;31m---------------------------------------------------------------------------\u001b[0m",
            "\u001b[0;31mTypeError\u001b[0m                                 Traceback (most recent call last)",
            "\u001b[0;32m<ipython-input-87-5b6762093787>\u001b[0m in \u001b[0;36m<module>\u001b[0;34m()\u001b[0m\n\u001b[1;32m      1\u001b[0m \u001b[0;32mwith\u001b[0m \u001b[0mtf\u001b[0m\u001b[0;34m.\u001b[0m\u001b[0mSession\u001b[0m\u001b[0;34m(\u001b[0m\u001b[0;34m)\u001b[0m \u001b[0;32mas\u001b[0m \u001b[0msess\u001b[0m\u001b[0;34m:\u001b[0m\u001b[0;34m\u001b[0m\u001b[0;34m\u001b[0m\u001b[0m\n\u001b[0;32m----> 2\u001b[0;31m   \u001b[0msess\u001b[0m\u001b[0;34m.\u001b[0m\u001b[0mrun\u001b[0m\u001b[0;34m(\u001b[0m\u001b[0mRUN\u001b[0m\u001b[0;34m(\u001b[0m\u001b[0msess\u001b[0m\u001b[0;34m=\u001b[0m\u001b[0msess\u001b[0m\u001b[0;34m,\u001b[0m\u001b[0mmode\u001b[0m\u001b[0;34m=\u001b[0m\u001b[0;34m'tfrecord'\u001b[0m\u001b[0;34m,\u001b[0m\u001b[0mtest_file\u001b[0m\u001b[0;34m=\u001b[0m\u001b[0mtest_file\u001b[0m\u001b[0;34m,\u001b[0m\u001b[0mbatch_size\u001b[0m\u001b[0;34m=\u001b[0m\u001b[0;36m4\u001b[0m\u001b[0;34m,\u001b[0m\u001b[0mmean_\u001b[0m\u001b[0;34m=\u001b[0m\u001b[0mscaler\u001b[0m\u001b[0;34m.\u001b[0m\u001b[0mmean_\u001b[0m\u001b[0;34m,\u001b[0m\u001b[0mscale_\u001b[0m\u001b[0;34m=\u001b[0m\u001b[0mscaler\u001b[0m\u001b[0;34m.\u001b[0m\u001b[0mscale_\u001b[0m\u001b[0;34m)\u001b[0m\u001b[0;34m)\u001b[0m\u001b[0;34m\u001b[0m\u001b[0;34m\u001b[0m\u001b[0m\n\u001b[0m\u001b[1;32m      3\u001b[0m \u001b[0;34m\u001b[0m\u001b[0m\n",
            "\u001b[0;32m<ipython-input-86-33aa09af9ac7>\u001b[0m in \u001b[0;36mRUN\u001b[0;34m(sess, X, y, batch_size, epoch, learning_rate, mode, name, test_file, mean_, scale_)\u001b[0m\n\u001b[1;32m    100\u001b[0m     \u001b[0mpredicted\u001b[0m \u001b[0;34m=\u001b[0m \u001b[0mmodel\u001b[0m\u001b[0;34m(\u001b[0m\u001b[0mX_train\u001b[0m\u001b[0;34m,\u001b[0m \u001b[0my\u001b[0m\u001b[0;34m=\u001b[0m\u001b[0;32mNone\u001b[0m\u001b[0;34m,\u001b[0m\u001b[0mname\u001b[0m\u001b[0;34m=\u001b[0m\u001b[0;34m'model_1'\u001b[0m\u001b[0;34m)\u001b[0m\u001b[0;34m\u001b[0m\u001b[0;34m\u001b[0m\u001b[0m\n\u001b[1;32m    101\u001b[0m     \u001b[0mX_train1\u001b[0m\u001b[0;34m,\u001b[0m \u001b[0mX_train2\u001b[0m \u001b[0;34m=\u001b[0m \u001b[0mitertools\u001b[0m\u001b[0;34m.\u001b[0m\u001b[0mtee\u001b[0m\u001b[0;34m(\u001b[0m\u001b[0mX_train\u001b[0m\u001b[0;34m,\u001b[0m\u001b[0;36m2\u001b[0m\u001b[0;34m)\u001b[0m\u001b[0;34m\u001b[0m\u001b[0;34m\u001b[0m\u001b[0m\n\u001b[0;32m--> 102\u001b[0;31m     \u001b[0;32mfor\u001b[0m \u001b[0mi\u001b[0m \u001b[0;32min\u001b[0m \u001b[0mX_train1\u001b[0m\u001b[0;34m:\u001b[0m\u001b[0;34m\u001b[0m\u001b[0;34m\u001b[0m\u001b[0m\n\u001b[0m\u001b[1;32m    103\u001b[0m       \u001b[0mprint\u001b[0m\u001b[0;34m(\u001b[0m\u001b[0mi\u001b[0m\u001b[0;34m.\u001b[0m\u001b[0meval\u001b[0m\u001b[0;34m(\u001b[0m\u001b[0;34m)\u001b[0m\u001b[0;34m)\u001b[0m\u001b[0;34m\u001b[0m\u001b[0;34m\u001b[0m\u001b[0m\n\u001b[1;32m    104\u001b[0m     \u001b[0;32mfor\u001b[0m \u001b[0mi\u001b[0m \u001b[0;32min\u001b[0m \u001b[0mrange\u001b[0m\u001b[0;34m(\u001b[0m\u001b[0;36m0\u001b[0m\u001b[0;34m,\u001b[0m\u001b[0mbatch_size\u001b[0m\u001b[0;34m)\u001b[0m\u001b[0;34m:\u001b[0m\u001b[0;34m\u001b[0m\u001b[0;34m\u001b[0m\u001b[0m\n",
            "\u001b[0;32m/usr/local/lib/python3.6/dist-packages/tensorflow/python/framework/ops.py\u001b[0m in \u001b[0;36m__iter__\u001b[0;34m(self)\u001b[0m\n\u001b[1;32m    457\u001b[0m     \u001b[0;32mif\u001b[0m \u001b[0;32mnot\u001b[0m \u001b[0mcontext\u001b[0m\u001b[0;34m.\u001b[0m\u001b[0mexecuting_eagerly\u001b[0m\u001b[0;34m(\u001b[0m\u001b[0;34m)\u001b[0m\u001b[0;34m:\u001b[0m\u001b[0;34m\u001b[0m\u001b[0;34m\u001b[0m\u001b[0m\n\u001b[1;32m    458\u001b[0m       raise TypeError(\n\u001b[0;32m--> 459\u001b[0;31m           \u001b[0;34m\"Tensor objects are only iterable when eager execution is \"\u001b[0m\u001b[0;34m\u001b[0m\u001b[0;34m\u001b[0m\u001b[0m\n\u001b[0m\u001b[1;32m    460\u001b[0m           \"enabled. To iterate over this tensor use tf.map_fn.\")\n\u001b[1;32m    461\u001b[0m     \u001b[0mshape\u001b[0m \u001b[0;34m=\u001b[0m \u001b[0mself\u001b[0m\u001b[0;34m.\u001b[0m\u001b[0m_shape_tuple\u001b[0m\u001b[0;34m(\u001b[0m\u001b[0;34m)\u001b[0m\u001b[0;34m\u001b[0m\u001b[0;34m\u001b[0m\u001b[0m\n",
            "\u001b[0;31mTypeError\u001b[0m: Tensor objects are only iterable when eager execution is enabled. To iterate over this tensor use tf.map_fn."
          ]
        }
      ]
    },
    {
      "metadata": {
        "id": "EbJlKpiXu7Ne",
        "colab_type": "code",
        "colab": {}
      },
      "cell_type": "code",
      "source": [
        "  !rm -r ./model/"
      ],
      "execution_count": 0,
      "outputs": []
    },
    {
      "metadata": {
        "id": "MKvGbrtIe6us",
        "colab_type": "code",
        "outputId": "a04ffcd8-20cc-4543-a8ac-bd29b9c6b210",
        "colab": {
          "base_uri": "https://localhost:8080/",
          "height": 34
        }
      },
      "cell_type": "code",
      "source": [
        "!ls ./model"
      ],
      "execution_count": 0,
      "outputs": [
        {
          "output_type": "stream",
          "text": [
            "ls: cannot access './model': No such file or directory\n"
          ],
          "name": "stdout"
        }
      ]
    },
    {
      "metadata": {
        "id": "PbarTKHJwAMc",
        "colab_type": "code",
        "outputId": "a7c717c1-a280-47a3-e6e2-5dadfab31ecb",
        "colab": {
          "base_uri": "https://localhost:8080/",
          "height": 491
        }
      },
      "cell_type": "code",
      "source": [
        "df_1.head(15)"
      ],
      "execution_count": 0,
      "outputs": [
        {
          "output_type": "execute_result",
          "data": {
            "text/html": [
              "<div>\n",
              "<style scoped>\n",
              "    .dataframe tbody tr th:only-of-type {\n",
              "        vertical-align: middle;\n",
              "    }\n",
              "\n",
              "    .dataframe tbody tr th {\n",
              "        vertical-align: top;\n",
              "    }\n",
              "\n",
              "    .dataframe thead th {\n",
              "        text-align: right;\n",
              "    }\n",
              "</style>\n",
              "<table border=\"1\" class=\"dataframe\">\n",
              "  <thead>\n",
              "    <tr style=\"text-align: right;\">\n",
              "      <th></th>\n",
              "      <th>altitude</th>\n",
              "      <th>cluster</th>\n",
              "      <th>distance_any</th>\n",
              "      <th>distance_buffer</th>\n",
              "      <th>distance_dep</th>\n",
              "      <th>distance_nac</th>\n",
              "      <th>distance_parks</th>\n",
              "      <th>distance_vec</th>\n",
              "      <th>distance_villages</th>\n",
              "      <th>latitude</th>\n",
              "      <th>longitude</th>\n",
              "    </tr>\n",
              "  </thead>\n",
              "  <tbody>\n",
              "    <tr>\n",
              "      <th>0</th>\n",
              "      <td>336</td>\n",
              "      <td>0</td>\n",
              "      <td>24058</td>\n",
              "      <td>4571024</td>\n",
              "      <td>4571024</td>\n",
              "      <td>24058</td>\n",
              "      <td>4571024</td>\n",
              "      <td>2473</td>\n",
              "      <td>18384</td>\n",
              "      <td>-11769</td>\n",
              "      <td>-69427</td>\n",
              "    </tr>\n",
              "    <tr>\n",
              "      <th>1</th>\n",
              "      <td>307</td>\n",
              "      <td>0</td>\n",
              "      <td>11241</td>\n",
              "      <td>4576123</td>\n",
              "      <td>11241</td>\n",
              "      <td>19793</td>\n",
              "      <td>4576123</td>\n",
              "      <td>8914</td>\n",
              "      <td>16104</td>\n",
              "      <td>-11121</td>\n",
              "      <td>-69746</td>\n",
              "    </tr>\n",
              "    <tr>\n",
              "      <th>2</th>\n",
              "      <td>316</td>\n",
              "      <td>0</td>\n",
              "      <td>1821</td>\n",
              "      <td>4576801</td>\n",
              "      <td>1821</td>\n",
              "      <td>17109</td>\n",
              "      <td>4576801</td>\n",
              "      <td>279</td>\n",
              "      <td>6174</td>\n",
              "      <td>-11032</td>\n",
              "      <td>-69730</td>\n",
              "    </tr>\n",
              "    <tr>\n",
              "      <th>3</th>\n",
              "      <td>264</td>\n",
              "      <td>0</td>\n",
              "      <td>11833</td>\n",
              "      <td>30822</td>\n",
              "      <td>42650</td>\n",
              "      <td>11833</td>\n",
              "      <td>32681</td>\n",
              "      <td>3618</td>\n",
              "      <td>15311</td>\n",
              "      <td>-12239</td>\n",
              "      <td>-69019</td>\n",
              "    </tr>\n",
              "    <tr>\n",
              "      <th>4</th>\n",
              "      <td>254</td>\n",
              "      <td>0</td>\n",
              "      <td>32274</td>\n",
              "      <td>61280</td>\n",
              "      <td>60047</td>\n",
              "      <td>32274</td>\n",
              "      <td>65494</td>\n",
              "      <td>4084</td>\n",
              "      <td>23081</td>\n",
              "      <td>-12101</td>\n",
              "      <td>-69421</td>\n",
              "    </tr>\n",
              "    <tr>\n",
              "      <th>5</th>\n",
              "      <td>318</td>\n",
              "      <td>0</td>\n",
              "      <td>28862</td>\n",
              "      <td>4571929</td>\n",
              "      <td>4571929</td>\n",
              "      <td>28862</td>\n",
              "      <td>4571929</td>\n",
              "      <td>6610</td>\n",
              "      <td>28623</td>\n",
              "      <td>-11656</td>\n",
              "      <td>-69563</td>\n",
              "    </tr>\n",
              "    <tr>\n",
              "      <th>6</th>\n",
              "      <td>292</td>\n",
              "      <td>0</td>\n",
              "      <td>278</td>\n",
              "      <td>7582</td>\n",
              "      <td>278</td>\n",
              "      <td>27269</td>\n",
              "      <td>13230</td>\n",
              "      <td>6025</td>\n",
              "      <td>9066</td>\n",
              "      <td>-12699</td>\n",
              "      <td>-70406</td>\n",
              "    </tr>\n",
              "    <tr>\n",
              "      <th>7</th>\n",
              "      <td>366</td>\n",
              "      <td>0</td>\n",
              "      <td>7694</td>\n",
              "      <td>0</td>\n",
              "      <td>7694</td>\n",
              "      <td>4565072</td>\n",
              "      <td>7846</td>\n",
              "      <td>25957</td>\n",
              "      <td>11315</td>\n",
              "      <td>-12482</td>\n",
              "      <td>-71194</td>\n",
              "    </tr>\n",
              "    <tr>\n",
              "      <th>8</th>\n",
              "      <td>303</td>\n",
              "      <td>0</td>\n",
              "      <td>48580</td>\n",
              "      <td>71393</td>\n",
              "      <td>70259</td>\n",
              "      <td>48580</td>\n",
              "      <td>4568414</td>\n",
              "      <td>11300</td>\n",
              "      <td>32532</td>\n",
              "      <td>-12087</td>\n",
              "      <td>-69573</td>\n",
              "    </tr>\n",
              "    <tr>\n",
              "      <th>9</th>\n",
              "      <td>283</td>\n",
              "      <td>0</td>\n",
              "      <td>11725</td>\n",
              "      <td>11629</td>\n",
              "      <td>11785</td>\n",
              "      <td>11725</td>\n",
              "      <td>31744</td>\n",
              "      <td>4978</td>\n",
              "      <td>22125</td>\n",
              "      <td>-12806</td>\n",
              "      <td>-70266</td>\n",
              "    </tr>\n",
              "    <tr>\n",
              "      <th>10</th>\n",
              "      <td>298</td>\n",
              "      <td>0</td>\n",
              "      <td>4541</td>\n",
              "      <td>4573776</td>\n",
              "      <td>59485</td>\n",
              "      <td>4541</td>\n",
              "      <td>4573776</td>\n",
              "      <td>2180</td>\n",
              "      <td>5725</td>\n",
              "      <td>-11424</td>\n",
              "      <td>-69279</td>\n",
              "    </tr>\n",
              "    <tr>\n",
              "      <th>11</th>\n",
              "      <td>309</td>\n",
              "      <td>0</td>\n",
              "      <td>12442</td>\n",
              "      <td>63191</td>\n",
              "      <td>65551</td>\n",
              "      <td>12442</td>\n",
              "      <td>64571</td>\n",
              "      <td>2472</td>\n",
              "      <td>4718</td>\n",
              "      <td>-12000</td>\n",
              "      <td>-69252</td>\n",
              "    </tr>\n",
              "    <tr>\n",
              "      <th>12</th>\n",
              "      <td>274</td>\n",
              "      <td>0</td>\n",
              "      <td>5562</td>\n",
              "      <td>4570155</td>\n",
              "      <td>4570155</td>\n",
              "      <td>5562</td>\n",
              "      <td>4570155</td>\n",
              "      <td>788</td>\n",
              "      <td>6666</td>\n",
              "      <td>-11876</td>\n",
              "      <td>-69199</td>\n",
              "    </tr>\n",
              "    <tr>\n",
              "      <th>13</th>\n",
              "      <td>1921</td>\n",
              "      <td>0</td>\n",
              "      <td>10936</td>\n",
              "      <td>9464</td>\n",
              "      <td>10936</td>\n",
              "      <td>4560564</td>\n",
              "      <td>0</td>\n",
              "      <td>12233</td>\n",
              "      <td>16435</td>\n",
              "      <td>-12996</td>\n",
              "      <td>-71636</td>\n",
              "    </tr>\n",
              "    <tr>\n",
              "      <th>14</th>\n",
              "      <td>859</td>\n",
              "      <td>0</td>\n",
              "      <td>4941</td>\n",
              "      <td>709</td>\n",
              "      <td>4941</td>\n",
              "      <td>48533</td>\n",
              "      <td>4708</td>\n",
              "      <td>793</td>\n",
              "      <td>22716</td>\n",
              "      <td>-13062</td>\n",
              "      <td>-71218</td>\n",
              "    </tr>\n",
              "  </tbody>\n",
              "</table>\n",
              "</div>"
            ],
            "text/plain": [
              "    altitude  cluster  distance_any  distance_buffer  distance_dep  \\\n",
              "0        336        0         24058          4571024       4571024   \n",
              "1        307        0         11241          4576123         11241   \n",
              "2        316        0          1821          4576801          1821   \n",
              "3        264        0         11833            30822         42650   \n",
              "4        254        0         32274            61280         60047   \n",
              "5        318        0         28862          4571929       4571929   \n",
              "6        292        0           278             7582           278   \n",
              "7        366        0          7694                0          7694   \n",
              "8        303        0         48580            71393         70259   \n",
              "9        283        0         11725            11629         11785   \n",
              "10       298        0          4541          4573776         59485   \n",
              "11       309        0         12442            63191         65551   \n",
              "12       274        0          5562          4570155       4570155   \n",
              "13      1921        0         10936             9464         10936   \n",
              "14       859        0          4941              709          4941   \n",
              "\n",
              "    distance_nac  distance_parks  distance_vec  distance_villages  latitude  \\\n",
              "0          24058         4571024          2473              18384    -11769   \n",
              "1          19793         4576123          8914              16104    -11121   \n",
              "2          17109         4576801           279               6174    -11032   \n",
              "3          11833           32681          3618              15311    -12239   \n",
              "4          32274           65494          4084              23081    -12101   \n",
              "5          28862         4571929          6610              28623    -11656   \n",
              "6          27269           13230          6025               9066    -12699   \n",
              "7        4565072            7846         25957              11315    -12482   \n",
              "8          48580         4568414         11300              32532    -12087   \n",
              "9          11725           31744          4978              22125    -12806   \n",
              "10          4541         4573776          2180               5725    -11424   \n",
              "11         12442           64571          2472               4718    -12000   \n",
              "12          5562         4570155           788               6666    -11876   \n",
              "13       4560564               0         12233              16435    -12996   \n",
              "14         48533            4708           793              22716    -13062   \n",
              "\n",
              "    longitude  \n",
              "0      -69427  \n",
              "1      -69746  \n",
              "2      -69730  \n",
              "3      -69019  \n",
              "4      -69421  \n",
              "5      -69563  \n",
              "6      -70406  \n",
              "7      -71194  \n",
              "8      -69573  \n",
              "9      -70266  \n",
              "10     -69279  \n",
              "11     -69252  \n",
              "12     -69199  \n",
              "13     -71636  \n",
              "14     -71218  "
            ]
          },
          "metadata": {
            "tags": []
          },
          "execution_count": 9
        }
      ]
    },
    {
      "metadata": {
        "id": "00OCr1OJQJcS",
        "colab_type": "code",
        "outputId": "f3d6cd47-406b-425c-c732-ed686b9ec1ae",
        "colab": {
          "base_uri": "https://localhost:8080/",
          "height": 77
        }
      },
      "cell_type": "code",
      "source": [
        "df_1.head(1)"
      ],
      "execution_count": 0,
      "outputs": [
        {
          "output_type": "execute_result",
          "data": {
            "text/html": [
              "<div>\n",
              "<style scoped>\n",
              "    .dataframe tbody tr th:only-of-type {\n",
              "        vertical-align: middle;\n",
              "    }\n",
              "\n",
              "    .dataframe tbody tr th {\n",
              "        vertical-align: top;\n",
              "    }\n",
              "\n",
              "    .dataframe thead th {\n",
              "        text-align: right;\n",
              "    }\n",
              "</style>\n",
              "<table border=\"1\" class=\"dataframe\">\n",
              "  <thead>\n",
              "    <tr style=\"text-align: right;\">\n",
              "      <th></th>\n",
              "      <th>altitude</th>\n",
              "      <th>cluster</th>\n",
              "      <th>distance_any</th>\n",
              "      <th>distance_buffer</th>\n",
              "      <th>distance_dep</th>\n",
              "      <th>distance_nac</th>\n",
              "      <th>distance_parks</th>\n",
              "      <th>distance_vec</th>\n",
              "      <th>distance_villages</th>\n",
              "      <th>latitude</th>\n",
              "      <th>longitude</th>\n",
              "    </tr>\n",
              "  </thead>\n",
              "  <tbody>\n",
              "    <tr>\n",
              "      <th>0</th>\n",
              "      <td>336</td>\n",
              "      <td>0</td>\n",
              "      <td>24058</td>\n",
              "      <td>4571024</td>\n",
              "      <td>4571024</td>\n",
              "      <td>24058</td>\n",
              "      <td>4571024</td>\n",
              "      <td>2473</td>\n",
              "      <td>18384</td>\n",
              "      <td>-11769</td>\n",
              "      <td>-69427</td>\n",
              "    </tr>\n",
              "  </tbody>\n",
              "</table>\n",
              "</div>"
            ],
            "text/plain": [
              "   altitude  cluster  distance_any  distance_buffer  distance_dep  \\\n",
              "0       336        0         24058          4571024       4571024   \n",
              "\n",
              "   distance_nac  distance_parks  distance_vec  distance_villages  latitude  \\\n",
              "0         24058         4571024          2473              18384    -11769   \n",
              "\n",
              "   longitude  \n",
              "0     -69427  "
            ]
          },
          "metadata": {
            "tags": []
          },
          "execution_count": 7
        }
      ]
    },
    {
      "metadata": {
        "id": "I90AuVRmk08o",
        "colab_type": "code",
        "outputId": "1048bc7d-6017-4790-8d74-0bac071f0e96",
        "colab": {
          "base_uri": "https://localhost:8080/",
          "height": 34
        }
      },
      "cell_type": "code",
      "source": [
        "a=tf.constant([0.1,0.2,0.6,0.7])\n",
        "b = tf.to_int32(a > 0.5)\n",
        "with tf.Session() as sess:\n",
        "  print(sess.run(b))"
      ],
      "execution_count": 0,
      "outputs": [
        {
          "output_type": "stream",
          "text": [
            "[0 0 1 1]\n"
          ],
          "name": "stdout"
        }
      ]
    },
    {
      "metadata": {
        "id": "AigIIo04NzFy",
        "colab_type": "code",
        "outputId": "83c2d375-4c39-4da6-e467-70ebbcae0bf6",
        "colab": {
          "base_uri": "https://localhost:8080/",
          "height": 195
        }
      },
      "cell_type": "code",
      "source": [
        "X_train.head()\n"
      ],
      "execution_count": 0,
      "outputs": [
        {
          "output_type": "execute_result",
          "data": {
            "text/html": [
              "<div>\n",
              "<style scoped>\n",
              "    .dataframe tbody tr th:only-of-type {\n",
              "        vertical-align: middle;\n",
              "    }\n",
              "\n",
              "    .dataframe tbody tr th {\n",
              "        vertical-align: top;\n",
              "    }\n",
              "\n",
              "    .dataframe thead th {\n",
              "        text-align: right;\n",
              "    }\n",
              "</style>\n",
              "<table border=\"1\" class=\"dataframe\">\n",
              "  <thead>\n",
              "    <tr style=\"text-align: right;\">\n",
              "      <th></th>\n",
              "      <th>altitude</th>\n",
              "      <th>distance_any</th>\n",
              "      <th>distance_buffer</th>\n",
              "      <th>distance_dep</th>\n",
              "      <th>distance_nac</th>\n",
              "      <th>distance_parks</th>\n",
              "      <th>distance_vec</th>\n",
              "      <th>distance_villages</th>\n",
              "      <th>latitude</th>\n",
              "      <th>longitude</th>\n",
              "    </tr>\n",
              "  </thead>\n",
              "  <tbody>\n",
              "    <tr>\n",
              "      <th>10209</th>\n",
              "      <td>255</td>\n",
              "      <td>2606</td>\n",
              "      <td>2530</td>\n",
              "      <td>36285</td>\n",
              "      <td>2606</td>\n",
              "      <td>17430</td>\n",
              "      <td>492</td>\n",
              "      <td>5287</td>\n",
              "      <td>-12853</td>\n",
              "      <td>-70032</td>\n",
              "    </tr>\n",
              "    <tr>\n",
              "      <th>7641</th>\n",
              "      <td>594</td>\n",
              "      <td>2065</td>\n",
              "      <td>5105</td>\n",
              "      <td>2065</td>\n",
              "      <td>15515</td>\n",
              "      <td>6926</td>\n",
              "      <td>5723</td>\n",
              "      <td>2461</td>\n",
              "      <td>-13171</td>\n",
              "      <td>-70749</td>\n",
              "    </tr>\n",
              "    <tr>\n",
              "      <th>18464</th>\n",
              "      <td>604</td>\n",
              "      <td>1370</td>\n",
              "      <td>0</td>\n",
              "      <td>1370</td>\n",
              "      <td>4560869</td>\n",
              "      <td>13677</td>\n",
              "      <td>598</td>\n",
              "      <td>4046</td>\n",
              "      <td>-12962</td>\n",
              "      <td>-71406</td>\n",
              "    </tr>\n",
              "    <tr>\n",
              "      <th>5577</th>\n",
              "      <td>242</td>\n",
              "      <td>220</td>\n",
              "      <td>0</td>\n",
              "      <td>58050</td>\n",
              "      <td>220</td>\n",
              "      <td>8117</td>\n",
              "      <td>1978</td>\n",
              "      <td>16545</td>\n",
              "      <td>-12843</td>\n",
              "      <td>-69673</td>\n",
              "    </tr>\n",
              "    <tr>\n",
              "      <th>13938</th>\n",
              "      <td>261</td>\n",
              "      <td>15319</td>\n",
              "      <td>15256</td>\n",
              "      <td>32711</td>\n",
              "      <td>15319</td>\n",
              "      <td>29372</td>\n",
              "      <td>7431</td>\n",
              "      <td>7188</td>\n",
              "      <td>-12743</td>\n",
              "      <td>-70083</td>\n",
              "    </tr>\n",
              "  </tbody>\n",
              "</table>\n",
              "</div>"
            ],
            "text/plain": [
              "       altitude  distance_any  distance_buffer  distance_dep  distance_nac  \\\n",
              "10209       255          2606             2530         36285          2606   \n",
              "7641        594          2065             5105          2065         15515   \n",
              "18464       604          1370                0          1370       4560869   \n",
              "5577        242           220                0         58050           220   \n",
              "13938       261         15319            15256         32711         15319   \n",
              "\n",
              "       distance_parks  distance_vec  distance_villages  latitude  longitude  \n",
              "10209           17430           492               5287    -12853     -70032  \n",
              "7641             6926          5723               2461    -13171     -70749  \n",
              "18464           13677           598               4046    -12962     -71406  \n",
              "5577             8117          1978              16545    -12843     -69673  \n",
              "13938           29372          7431               7188    -12743     -70083  "
            ]
          },
          "metadata": {
            "tags": []
          },
          "execution_count": 144
        }
      ]
    },
    {
      "metadata": {
        "id": "t2uXXz5Lk04Y",
        "colab_type": "code",
        "outputId": "5beb83bc-12c0-45d0-de60-1a3a805c6cda",
        "colab": {
          "base_uri": "https://localhost:8080/",
          "height": 649
        }
      },
      "cell_type": "code",
      "source": [
        "with tf.Session() as sess:\n",
        "  loss, predicted = sess.run(model(X_train.head(1),y_train.head(1)))"
      ],
      "execution_count": 0,
      "outputs": [
        {
          "output_type": "error",
          "ename": "AttributeError",
          "evalue": "ignored",
          "traceback": [
            "\u001b[0;31m---------------------------------------------------------------------------\u001b[0m",
            "\u001b[0;31mAttributeError\u001b[0m                            Traceback (most recent call last)",
            "\u001b[0;32m<ipython-input-20-7e1e6a28766f>\u001b[0m in \u001b[0;36m<module>\u001b[0;34m()\u001b[0m\n\u001b[1;32m      1\u001b[0m \u001b[0;32mwith\u001b[0m \u001b[0mtf\u001b[0m\u001b[0;34m.\u001b[0m\u001b[0mSession\u001b[0m\u001b[0;34m(\u001b[0m\u001b[0;34m)\u001b[0m \u001b[0;32mas\u001b[0m \u001b[0msess\u001b[0m\u001b[0;34m:\u001b[0m\u001b[0;34m\u001b[0m\u001b[0;34m\u001b[0m\u001b[0m\n\u001b[0;32m----> 2\u001b[0;31m   \u001b[0mloss\u001b[0m\u001b[0;34m,\u001b[0m \u001b[0mpredicted\u001b[0m \u001b[0;34m=\u001b[0m \u001b[0msess\u001b[0m\u001b[0;34m.\u001b[0m\u001b[0mrun\u001b[0m\u001b[0;34m(\u001b[0m\u001b[0mmodel\u001b[0m\u001b[0;34m(\u001b[0m\u001b[0mX_train\u001b[0m\u001b[0;34m.\u001b[0m\u001b[0mhead\u001b[0m\u001b[0;34m(\u001b[0m\u001b[0;36m1\u001b[0m\u001b[0;34m)\u001b[0m\u001b[0;34m,\u001b[0m\u001b[0my_train\u001b[0m\u001b[0;34m.\u001b[0m\u001b[0mhead\u001b[0m\u001b[0;34m(\u001b[0m\u001b[0;36m1\u001b[0m\u001b[0;34m)\u001b[0m\u001b[0;34m)\u001b[0m\u001b[0;34m)\u001b[0m\u001b[0;34m\u001b[0m\u001b[0;34m\u001b[0m\u001b[0m\n\u001b[0m",
            "\u001b[0;32m<ipython-input-6-0e14ce7c7a88>\u001b[0m in \u001b[0;36mmodel\u001b[0;34m(x, y)\u001b[0m\n\u001b[1;32m      1\u001b[0m \u001b[0;32mdef\u001b[0m \u001b[0mmodel\u001b[0m\u001b[0;34m(\u001b[0m\u001b[0mx\u001b[0m\u001b[0;34m,\u001b[0m\u001b[0my\u001b[0m\u001b[0;34m=\u001b[0m\u001b[0;32mNone\u001b[0m\u001b[0;34m)\u001b[0m\u001b[0;34m:\u001b[0m\u001b[0;34m\u001b[0m\u001b[0;34m\u001b[0m\u001b[0m\n\u001b[1;32m      2\u001b[0m \u001b[0;34m\u001b[0m\u001b[0m\n\u001b[0;32m----> 3\u001b[0;31m   \u001b[0mlogits\u001b[0m\u001b[0;34m,\u001b[0m \u001b[0mpredicted\u001b[0m \u001b[0;34m=\u001b[0m \u001b[0mnet\u001b[0m\u001b[0;34m(\u001b[0m\u001b[0mx\u001b[0m\u001b[0;34m)\u001b[0m\u001b[0;34m\u001b[0m\u001b[0;34m\u001b[0m\u001b[0m\n\u001b[0m\u001b[1;32m      4\u001b[0m   \u001b[0;32mif\u001b[0m \u001b[0my\u001b[0m \u001b[0;34m!=\u001b[0m \u001b[0;32mNone\u001b[0m\u001b[0;34m:\u001b[0m\u001b[0;34m\u001b[0m\u001b[0;34m\u001b[0m\u001b[0m\n\u001b[1;32m      5\u001b[0m     loss = tf.nn.sigmoid_cross_entropy_with_logits(_sentinel=None, \n",
            "\u001b[0;32m<ipython-input-5-8e6b4e78ad60>\u001b[0m in \u001b[0;36mnet\u001b[0;34m(x, name)\u001b[0m\n\u001b[1;32m      1\u001b[0m \u001b[0;32mdef\u001b[0m \u001b[0mnet\u001b[0m\u001b[0;34m(\u001b[0m\u001b[0mx\u001b[0m\u001b[0;34m,\u001b[0m\u001b[0mname\u001b[0m\u001b[0;34m=\u001b[0m\u001b[0;34m'model_location'\u001b[0m\u001b[0;34m)\u001b[0m\u001b[0;34m:\u001b[0m\u001b[0;34m\u001b[0m\u001b[0;34m\u001b[0m\u001b[0m\n\u001b[1;32m      2\u001b[0m   \u001b[0;32mwith\u001b[0m \u001b[0mtf\u001b[0m\u001b[0;34m.\u001b[0m\u001b[0mvariable_scope\u001b[0m\u001b[0;34m(\u001b[0m\u001b[0mname\u001b[0m\u001b[0;34m)\u001b[0m \u001b[0;32mas\u001b[0m \u001b[0mscope\u001b[0m\u001b[0;34m:\u001b[0m\u001b[0;34m\u001b[0m\u001b[0;34m\u001b[0m\u001b[0m\n\u001b[0;32m----> 3\u001b[0;31m     \u001b[0md1\u001b[0m\u001b[0;34m=\u001b[0m \u001b[0mdense\u001b[0m\u001b[0;34m(\u001b[0m\u001b[0mx\u001b[0m\u001b[0;34m,\u001b[0m \u001b[0;36m256\u001b[0m\u001b[0;34m,\u001b[0m\u001b[0mname\u001b[0m\u001b[0;34m=\u001b[0m\u001b[0;34m'd1'\u001b[0m\u001b[0;34m)\u001b[0m\u001b[0;34m\u001b[0m\u001b[0;34m\u001b[0m\u001b[0m\n\u001b[0m\u001b[1;32m      4\u001b[0m     \u001b[0md2\u001b[0m\u001b[0;34m=\u001b[0m \u001b[0mdense\u001b[0m\u001b[0;34m(\u001b[0m\u001b[0md1\u001b[0m\u001b[0;34m,\u001b[0m\u001b[0;36m128\u001b[0m\u001b[0;34m,\u001b[0m\u001b[0mname\u001b[0m \u001b[0;34m=\u001b[0m\u001b[0;34m'd2'\u001b[0m\u001b[0;34m)\u001b[0m\u001b[0;34m\u001b[0m\u001b[0;34m\u001b[0m\u001b[0m\n\u001b[1;32m      5\u001b[0m     \u001b[0md3\u001b[0m \u001b[0;34m=\u001b[0m \u001b[0mdense\u001b[0m\u001b[0;34m(\u001b[0m\u001b[0md2\u001b[0m\u001b[0;34m,\u001b[0m\u001b[0;36m64\u001b[0m\u001b[0;34m,\u001b[0m \u001b[0mname\u001b[0m \u001b[0;34m=\u001b[0m \u001b[0;34m'd3'\u001b[0m\u001b[0;34m)\u001b[0m\u001b[0;34m\u001b[0m\u001b[0;34m\u001b[0m\u001b[0m\n",
            "\u001b[0;32m<ipython-input-4-7ac4f53231ae>\u001b[0m in \u001b[0;36mdense\u001b[0;34m(input_, output_size, name, stddev, bias_start, activation)\u001b[0m\n\u001b[1;32m      9\u001b[0m \u001b[0;31m#Linear activation\u001b[0m\u001b[0;34m\u001b[0m\u001b[0;34m\u001b[0m\u001b[0;34m\u001b[0m\u001b[0m\n\u001b[1;32m     10\u001b[0m \u001b[0;32mdef\u001b[0m \u001b[0mdense\u001b[0m\u001b[0;34m(\u001b[0m\u001b[0minput_\u001b[0m\u001b[0;34m,\u001b[0m \u001b[0moutput_size\u001b[0m\u001b[0;34m,\u001b[0m \u001b[0mname\u001b[0m\u001b[0;34m=\u001b[0m\u001b[0;32mNone\u001b[0m\u001b[0;34m,\u001b[0m \u001b[0mstddev\u001b[0m\u001b[0;34m=\u001b[0m\u001b[0;36m0.02\u001b[0m\u001b[0;34m,\u001b[0m \u001b[0mbias_start\u001b[0m\u001b[0;34m=\u001b[0m\u001b[0;36m0.0\u001b[0m\u001b[0;34m,\u001b[0m \u001b[0mactivation\u001b[0m\u001b[0;34m=\u001b[0m\u001b[0;34m'relu'\u001b[0m\u001b[0;34m)\u001b[0m\u001b[0;34m:\u001b[0m\u001b[0;34m\u001b[0m\u001b[0;34m\u001b[0m\u001b[0m\n\u001b[0;32m---> 11\u001b[0;31m     \u001b[0mshape\u001b[0m \u001b[0;34m=\u001b[0m \u001b[0minput_\u001b[0m\u001b[0;34m.\u001b[0m\u001b[0mget_shape\u001b[0m\u001b[0;34m(\u001b[0m\u001b[0;34m)\u001b[0m\u001b[0;34m.\u001b[0m\u001b[0mas_list\u001b[0m\u001b[0;34m(\u001b[0m\u001b[0;34m)\u001b[0m\u001b[0;34m\u001b[0m\u001b[0;34m\u001b[0m\u001b[0m\n\u001b[0m\u001b[1;32m     12\u001b[0m \u001b[0;34m\u001b[0m\u001b[0m\n\u001b[1;32m     13\u001b[0m     \u001b[0;32mwith\u001b[0m \u001b[0mtf\u001b[0m\u001b[0;34m.\u001b[0m\u001b[0mvariable_scope\u001b[0m\u001b[0;34m(\u001b[0m\u001b[0mname\u001b[0m\u001b[0;34m)\u001b[0m\u001b[0;34m:\u001b[0m\u001b[0;34m\u001b[0m\u001b[0;34m\u001b[0m\u001b[0m\n",
            "\u001b[0;32m/usr/local/lib/python3.6/dist-packages/pandas/core/generic.py\u001b[0m in \u001b[0;36m__getattr__\u001b[0;34m(self, name)\u001b[0m\n\u001b[1;32m   3612\u001b[0m             \u001b[0;32mif\u001b[0m \u001b[0mname\u001b[0m \u001b[0;32min\u001b[0m \u001b[0mself\u001b[0m\u001b[0;34m.\u001b[0m\u001b[0m_info_axis\u001b[0m\u001b[0;34m:\u001b[0m\u001b[0;34m\u001b[0m\u001b[0;34m\u001b[0m\u001b[0m\n\u001b[1;32m   3613\u001b[0m                 \u001b[0;32mreturn\u001b[0m \u001b[0mself\u001b[0m\u001b[0;34m[\u001b[0m\u001b[0mname\u001b[0m\u001b[0;34m]\u001b[0m\u001b[0;34m\u001b[0m\u001b[0;34m\u001b[0m\u001b[0m\n\u001b[0;32m-> 3614\u001b[0;31m             \u001b[0;32mreturn\u001b[0m \u001b[0mobject\u001b[0m\u001b[0;34m.\u001b[0m\u001b[0m__getattribute__\u001b[0m\u001b[0;34m(\u001b[0m\u001b[0mself\u001b[0m\u001b[0;34m,\u001b[0m \u001b[0mname\u001b[0m\u001b[0;34m)\u001b[0m\u001b[0;34m\u001b[0m\u001b[0;34m\u001b[0m\u001b[0m\n\u001b[0m\u001b[1;32m   3615\u001b[0m \u001b[0;34m\u001b[0m\u001b[0m\n\u001b[1;32m   3616\u001b[0m     \u001b[0;32mdef\u001b[0m \u001b[0m__setattr__\u001b[0m\u001b[0;34m(\u001b[0m\u001b[0mself\u001b[0m\u001b[0;34m,\u001b[0m \u001b[0mname\u001b[0m\u001b[0;34m,\u001b[0m \u001b[0mvalue\u001b[0m\u001b[0;34m)\u001b[0m\u001b[0;34m:\u001b[0m\u001b[0;34m\u001b[0m\u001b[0;34m\u001b[0m\u001b[0m\n",
            "\u001b[0;31mAttributeError\u001b[0m: 'DataFrame' object has no attribute 'get_shape'"
          ]
        }
      ]
    },
    {
      "metadata": {
        "id": "qpg6Qyymk0zZ",
        "colab_type": "code",
        "colab": {}
      },
      "cell_type": "code",
      "source": [
        "  X = df.drop('cluster', axis=1)\n",
        "  y = df['cluster']\n",
        "  X_trainval, X_test, y_trainval, y_test = train_test_split(X,y,test_size=0.1)\n",
        "  X_train, X_val, y_train, y_val = train_test_split(X_trainval,y_trainval, test_size=0.3)\n",
        "  "
      ],
      "execution_count": 0,
      "outputs": []
    },
    {
      "metadata": {
        "id": "kgbkPgaKk0sy",
        "colab_type": "code",
        "colab": {}
      },
      "cell_type": "code",
      "source": [
        "X = df_1.drop('cluster', axis=1)\n",
        "y = df_1['cluster']\n",
        "X_trainval, X_test, y_trainval, y_test = train_test_split(X,y,test_size=0.1)\n",
        "X_train, X_val, y_train, y_val = train_test_split(X_trainval,y_trainval, test_size=0.3)\n",
        "  "
      ],
      "execution_count": 0,
      "outputs": []
    },
    {
      "metadata": {
        "id": "9T09HdnAk0mS",
        "colab_type": "code",
        "outputId": "b30f8b8e-d8bc-4b92-c373-02a882a612dc",
        "colab": {
          "base_uri": "https://localhost:8080/",
          "height": 34
        }
      },
      "cell_type": "code",
      "source": [
        "type(y_train.values)"
      ],
      "execution_count": 0,
      "outputs": [
        {
          "output_type": "execute_result",
          "data": {
            "text/plain": [
              "numpy.ndarray"
            ]
          },
          "metadata": {
            "tags": []
          },
          "execution_count": 10
        }
      ]
    },
    {
      "metadata": {
        "id": "OTV4bowqk0fr",
        "colab_type": "code",
        "colab": {}
      },
      "cell_type": "code",
      "source": [
        ""
      ],
      "execution_count": 0,
      "outputs": []
    },
    {
      "metadata": {
        "id": "QwzOPvmuk0Y9",
        "colab_type": "code",
        "colab": {}
      },
      "cell_type": "code",
      "source": [
        ""
      ],
      "execution_count": 0,
      "outputs": []
    },
    {
      "metadata": {
        "id": "oLS7J8PlU0dd",
        "colab_type": "code",
        "colab": {}
      },
      "cell_type": "code",
      "source": [
        "import os\n",
        "import pandas as pd\n",
        "import numpy as np\n",
        "import matplotlib.pyplot as plt\n",
        "import seaborn as sns"
      ],
      "execution_count": 0,
      "outputs": []
    },
    {
      "metadata": {
        "id": "T8-l-j0JU0df",
        "colab_type": "code",
        "outputId": "be175d7d-2a08-4e55-c702-6cf1356eb214",
        "colab": {
          "base_uri": "https://localhost:8080/",
          "height": 538
        }
      },
      "cell_type": "code",
      "source": [
        "from tensorflow.python.client import device_lib\n",
        "print(device_lib.list_local_devices())\n"
      ],
      "execution_count": 0,
      "outputs": [
        {
          "output_type": "stream",
          "text": [
            "[name: \"/device:CPU:0\"\n",
            "device_type: \"CPU\"\n",
            "memory_limit: 268435456\n",
            "locality {\n",
            "}\n",
            "incarnation: 7251964751421694670\n",
            ", name: \"/device:XLA_CPU:0\"\n",
            "device_type: \"XLA_CPU\"\n",
            "memory_limit: 17179869184\n",
            "locality {\n",
            "}\n",
            "incarnation: 15177412999099472383\n",
            "physical_device_desc: \"device: XLA_CPU device\"\n",
            ", name: \"/device:XLA_GPU:0\"\n",
            "device_type: \"XLA_GPU\"\n",
            "memory_limit: 17179869184\n",
            "locality {\n",
            "}\n",
            "incarnation: 2957156692381048139\n",
            "physical_device_desc: \"device: XLA_GPU device\"\n",
            ", name: \"/device:GPU:0\"\n",
            "device_type: \"GPU\"\n",
            "memory_limit: 11281553818\n",
            "locality {\n",
            "  bus_id: 1\n",
            "  links {\n",
            "  }\n",
            "}\n",
            "incarnation: 363400024912358664\n",
            "physical_device_desc: \"device: 0, name: Tesla K80, pci bus id: 0000:00:04.0, compute capability: 3.7\"\n",
            "]\n"
          ],
          "name": "stdout"
        }
      ]
    },
    {
      "metadata": {
        "id": "LloWBt7iU0di",
        "colab_type": "code",
        "outputId": "8778b43b-f165-4a8e-cb1a-02097776b009",
        "colab": {
          "base_uri": "https://localhost:8080/",
          "height": 212
        }
      },
      "cell_type": "code",
      "source": [
        "df = pd.read_csv('training_deforested_7x7_roi_1_v3.csv', sep=',')\n",
        "print(df.shape)\n",
        "df=df.drop(['carbon_density','system:index', '.geo','cluster_mean'],axis=1)\n",
        "df.head()"
      ],
      "execution_count": 0,
      "outputs": [
        {
          "output_type": "stream",
          "text": [
            "(19278, 15)\n"
          ],
          "name": "stdout"
        },
        {
          "output_type": "execute_result",
          "data": {
            "text/html": [
              "<div>\n",
              "<style scoped>\n",
              "    .dataframe tbody tr th:only-of-type {\n",
              "        vertical-align: middle;\n",
              "    }\n",
              "\n",
              "    .dataframe tbody tr th {\n",
              "        vertical-align: top;\n",
              "    }\n",
              "\n",
              "    .dataframe thead th {\n",
              "        text-align: right;\n",
              "    }\n",
              "</style>\n",
              "<table border=\"1\" class=\"dataframe\">\n",
              "  <thead>\n",
              "    <tr style=\"text-align: right;\">\n",
              "      <th></th>\n",
              "      <th>altitude</th>\n",
              "      <th>cluster</th>\n",
              "      <th>distance_any</th>\n",
              "      <th>distance_buffer</th>\n",
              "      <th>distance_dep</th>\n",
              "      <th>distance_nac</th>\n",
              "      <th>distance_parks</th>\n",
              "      <th>distance_vec</th>\n",
              "      <th>distance_villages</th>\n",
              "      <th>latitude</th>\n",
              "      <th>longitude</th>\n",
              "    </tr>\n",
              "  </thead>\n",
              "  <tbody>\n",
              "    <tr>\n",
              "      <th>0</th>\n",
              "      <td>336</td>\n",
              "      <td>0</td>\n",
              "      <td>24058</td>\n",
              "      <td>4571024</td>\n",
              "      <td>4571024</td>\n",
              "      <td>24058</td>\n",
              "      <td>4571024</td>\n",
              "      <td>2473</td>\n",
              "      <td>18384</td>\n",
              "      <td>-11769</td>\n",
              "      <td>-69427</td>\n",
              "    </tr>\n",
              "    <tr>\n",
              "      <th>1</th>\n",
              "      <td>307</td>\n",
              "      <td>0</td>\n",
              "      <td>11241</td>\n",
              "      <td>4576123</td>\n",
              "      <td>11241</td>\n",
              "      <td>19793</td>\n",
              "      <td>4576123</td>\n",
              "      <td>8914</td>\n",
              "      <td>16104</td>\n",
              "      <td>-11121</td>\n",
              "      <td>-69746</td>\n",
              "    </tr>\n",
              "    <tr>\n",
              "      <th>2</th>\n",
              "      <td>316</td>\n",
              "      <td>0</td>\n",
              "      <td>1821</td>\n",
              "      <td>4576801</td>\n",
              "      <td>1821</td>\n",
              "      <td>17109</td>\n",
              "      <td>4576801</td>\n",
              "      <td>279</td>\n",
              "      <td>6174</td>\n",
              "      <td>-11032</td>\n",
              "      <td>-69730</td>\n",
              "    </tr>\n",
              "    <tr>\n",
              "      <th>3</th>\n",
              "      <td>264</td>\n",
              "      <td>0</td>\n",
              "      <td>11833</td>\n",
              "      <td>30822</td>\n",
              "      <td>42650</td>\n",
              "      <td>11833</td>\n",
              "      <td>32681</td>\n",
              "      <td>3618</td>\n",
              "      <td>15311</td>\n",
              "      <td>-12239</td>\n",
              "      <td>-69019</td>\n",
              "    </tr>\n",
              "    <tr>\n",
              "      <th>4</th>\n",
              "      <td>254</td>\n",
              "      <td>0</td>\n",
              "      <td>32274</td>\n",
              "      <td>61280</td>\n",
              "      <td>60047</td>\n",
              "      <td>32274</td>\n",
              "      <td>65494</td>\n",
              "      <td>4084</td>\n",
              "      <td>23081</td>\n",
              "      <td>-12101</td>\n",
              "      <td>-69421</td>\n",
              "    </tr>\n",
              "  </tbody>\n",
              "</table>\n",
              "</div>"
            ],
            "text/plain": [
              "   altitude  cluster  distance_any  distance_buffer  distance_dep  \\\n",
              "0       336        0         24058          4571024       4571024   \n",
              "1       307        0         11241          4576123         11241   \n",
              "2       316        0          1821          4576801          1821   \n",
              "3       264        0         11833            30822         42650   \n",
              "4       254        0         32274            61280         60047   \n",
              "\n",
              "   distance_nac  distance_parks  distance_vec  distance_villages  latitude  \\\n",
              "0         24058         4571024          2473              18384    -11769   \n",
              "1         19793         4576123          8914              16104    -11121   \n",
              "2         17109         4576801           279               6174    -11032   \n",
              "3         11833           32681          3618              15311    -12239   \n",
              "4         32274           65494          4084              23081    -12101   \n",
              "\n",
              "   longitude  \n",
              "0     -69427  \n",
              "1     -69746  \n",
              "2     -69730  \n",
              "3     -69019  \n",
              "4     -69421  "
            ]
          },
          "metadata": {
            "tags": []
          },
          "execution_count": 108
        }
      ]
    },
    {
      "metadata": {
        "id": "xTdcLbdnU0dk",
        "colab_type": "code",
        "colab": {}
      },
      "cell_type": "code",
      "source": [
        "X_train_val = df.drop('cluster', axis=1)\n",
        "y_train_val = df['cluster']"
      ],
      "execution_count": 0,
      "outputs": []
    },
    {
      "metadata": {
        "id": "eat_AZ2tU0do",
        "colab_type": "code",
        "outputId": "0b47955a-fa1e-4f80-a41d-7229e2d194d6",
        "colab": {
          "base_uri": "https://localhost:8080/",
          "height": 34
        }
      },
      "cell_type": "code",
      "source": [
        "from sklearn import preprocessing\n",
        "scaler = preprocessing.StandardScaler().fit(X_train_val)\n",
        "scaler"
      ],
      "execution_count": 0,
      "outputs": [
        {
          "output_type": "execute_result",
          "data": {
            "text/plain": [
              "StandardScaler(copy=True, with_mean=True, with_std=True)"
            ]
          },
          "metadata": {
            "tags": []
          },
          "execution_count": 110
        }
      ]
    },
    {
      "metadata": {
        "id": "rkNWDklPU0dr",
        "colab_type": "code",
        "outputId": "444c6ee6-1bd4-487f-b8bb-c5ff92a7c6fc",
        "colab": {
          "base_uri": "https://localhost:8080/",
          "height": 67
        }
      },
      "cell_type": "code",
      "source": [
        "scaler.mean_"
      ],
      "execution_count": 0,
      "outputs": [
        {
          "output_type": "execute_result",
          "data": {
            "text/plain": [
              "array([ 3.69526092e+02,  9.03138469e+03,  1.04036646e+06,  5.04651152e+05,\n",
              "        2.90258150e+05,  1.07262323e+06,  5.32368093e+03,  1.20618135e+04,\n",
              "       -1.24781170e+04, -6.98958841e+04])"
            ]
          },
          "metadata": {
            "tags": []
          },
          "execution_count": 111
        }
      ]
    },
    {
      "metadata": {
        "id": "9F5997d7U0du",
        "colab_type": "code",
        "outputId": "a0a4ad2b-bd1b-496b-ede3-106c2636d600",
        "colab": {
          "base_uri": "https://localhost:8080/",
          "height": 67
        }
      },
      "cell_type": "code",
      "source": [
        "scaler.scale_"
      ],
      "execution_count": 0,
      "outputs": [
        {
          "output_type": "execute_result",
          "data": {
            "text/plain": [
              "array([2.68042245e+02, 8.51001632e+03, 1.90735621e+06, 1.39593698e+06,\n",
              "       1.08746736e+06, 1.92218549e+06, 5.40077248e+03, 8.02563626e+03,\n",
              "       6.19416699e+02, 6.80591579e+02])"
            ]
          },
          "metadata": {
            "tags": []
          },
          "execution_count": 112
        }
      ]
    },
    {
      "metadata": {
        "id": "Q3g6uRr0U0dx",
        "colab_type": "code",
        "colab": {}
      },
      "cell_type": "code",
      "source": [
        "X_scaled = scaler.transform(X_train_val)"
      ],
      "execution_count": 0,
      "outputs": []
    },
    {
      "metadata": {
        "id": "XgY8bbaQU0dz",
        "colab_type": "code",
        "colab": {}
      },
      "cell_type": "code",
      "source": [
        "from sklearn.model_selection import train_test_split\n",
        "\n",
        "X_train, X_val, y_train, y_val = train_test_split(X_scaled, y_train_val, test_size=0.3, random_state=0)\n"
      ],
      "execution_count": 0,
      "outputs": []
    },
    {
      "metadata": {
        "id": "tp6C54yDU0d2",
        "colab_type": "code",
        "outputId": "323d5ae6-4095-4d8f-b045-f81d51544709",
        "colab": {
          "base_uri": "https://localhost:8080/",
          "height": 195
        }
      },
      "cell_type": "code",
      "source": [
        "pd.DataFrame(X_train).head()"
      ],
      "execution_count": 0,
      "outputs": [
        {
          "output_type": "execute_result",
          "data": {
            "text/html": [
              "<div>\n",
              "<style scoped>\n",
              "    .dataframe tbody tr th:only-of-type {\n",
              "        vertical-align: middle;\n",
              "    }\n",
              "\n",
              "    .dataframe tbody tr th {\n",
              "        vertical-align: top;\n",
              "    }\n",
              "\n",
              "    .dataframe thead th {\n",
              "        text-align: right;\n",
              "    }\n",
              "</style>\n",
              "<table border=\"1\" class=\"dataframe\">\n",
              "  <thead>\n",
              "    <tr style=\"text-align: right;\">\n",
              "      <th></th>\n",
              "      <th>0</th>\n",
              "      <th>1</th>\n",
              "      <th>2</th>\n",
              "      <th>3</th>\n",
              "      <th>4</th>\n",
              "      <th>5</th>\n",
              "      <th>6</th>\n",
              "      <th>7</th>\n",
              "      <th>8</th>\n",
              "      <th>9</th>\n",
              "    </tr>\n",
              "  </thead>\n",
              "  <tbody>\n",
              "    <tr>\n",
              "      <th>0</th>\n",
              "      <td>-0.419807</td>\n",
              "      <td>4.117573</td>\n",
              "      <td>-0.508651</td>\n",
              "      <td>-0.312094</td>\n",
              "      <td>-0.226385</td>\n",
              "      <td>-0.518216</td>\n",
              "      <td>0.390374</td>\n",
              "      <td>2.004350</td>\n",
              "      <td>0.655644</td>\n",
              "      <td>0.533189</td>\n",
              "    </tr>\n",
              "    <tr>\n",
              "      <th>1</th>\n",
              "      <td>-0.207154</td>\n",
              "      <td>-0.374310</td>\n",
              "      <td>1.852720</td>\n",
              "      <td>-0.324548</td>\n",
              "      <td>-0.261536</td>\n",
              "      <td>1.821646</td>\n",
              "      <td>-0.435990</td>\n",
              "      <td>-1.308533</td>\n",
              "      <td>1.782511</td>\n",
              "      <td>0.824113</td>\n",
              "    </tr>\n",
              "    <tr>\n",
              "      <th>2</th>\n",
              "      <td>-0.423538</td>\n",
              "      <td>-0.936236</td>\n",
              "      <td>-0.544892</td>\n",
              "      <td>-0.337553</td>\n",
              "      <td>-0.265934</td>\n",
              "      <td>-0.550546</td>\n",
              "      <td>-0.674289</td>\n",
              "      <td>-1.281869</td>\n",
              "      <td>-0.647194</td>\n",
              "      <td>-0.232321</td>\n",
              "    </tr>\n",
              "    <tr>\n",
              "      <th>3</th>\n",
              "      <td>-0.251923</td>\n",
              "      <td>-0.652688</td>\n",
              "      <td>1.852926</td>\n",
              "      <td>-0.333149</td>\n",
              "      <td>-0.263715</td>\n",
              "      <td>1.821850</td>\n",
              "      <td>-0.623000</td>\n",
              "      <td>-0.937099</td>\n",
              "      <td>1.863232</td>\n",
              "      <td>0.608124</td>\n",
              "    </tr>\n",
              "    <tr>\n",
              "      <th>4</th>\n",
              "      <td>-0.550384</td>\n",
              "      <td>-0.895578</td>\n",
              "      <td>-0.541152</td>\n",
              "      <td>-0.353335</td>\n",
              "      <td>-0.265615</td>\n",
              "      <td>-0.550203</td>\n",
              "      <td>-0.676326</td>\n",
              "      <td>0.104189</td>\n",
              "      <td>-0.256504</td>\n",
              "      <td>0.878477</td>\n",
              "    </tr>\n",
              "  </tbody>\n",
              "</table>\n",
              "</div>"
            ],
            "text/plain": [
              "          0         1         2         3         4         5         6  \\\n",
              "0 -0.419807  4.117573 -0.508651 -0.312094 -0.226385 -0.518216  0.390374   \n",
              "1 -0.207154 -0.374310  1.852720 -0.324548 -0.261536  1.821646 -0.435990   \n",
              "2 -0.423538 -0.936236 -0.544892 -0.337553 -0.265934 -0.550546 -0.674289   \n",
              "3 -0.251923 -0.652688  1.852926 -0.333149 -0.263715  1.821850 -0.623000   \n",
              "4 -0.550384 -0.895578 -0.541152 -0.353335 -0.265615 -0.550203 -0.676326   \n",
              "\n",
              "          7         8         9  \n",
              "0  2.004350  0.655644  0.533189  \n",
              "1 -1.308533  1.782511  0.824113  \n",
              "2 -1.281869 -0.647194 -0.232321  \n",
              "3 -0.937099  1.863232  0.608124  \n",
              "4  0.104189 -0.256504  0.878477  "
            ]
          },
          "metadata": {
            "tags": []
          },
          "execution_count": 10
        }
      ]
    },
    {
      "metadata": {
        "id": "Rv2wSBrMU0d7",
        "colab_type": "code",
        "outputId": "cc99d0b0-80e3-4d29-e79c-8e2a25664f34",
        "colab": {
          "base_uri": "https://localhost:8080/",
          "height": 34
        }
      },
      "cell_type": "code",
      "source": [
        "from keras.models import Sequential\n",
        "from keras.layers import Dense, Flatten, Dropout, BatchNormalization\n",
        "from keras.optimizers import Adam\n",
        "from keras import regularizers \n",
        "\n",
        "\n",
        "model = Sequential([\n",
        "#     Dense(1024, activation='relu', input_shape=(10,)),\n",
        "#     BatchNormalization(),\n",
        "#     Dense(512, activation='relu',input_shape=(10,)),\n",
        "    Dense(256, activation='relu',input_shape=(10,)),\n",
        "    BatchNormalization(),\n",
        "    Dropout(rate=0.1),\n",
        "    Dense(128, activation='relu',kernel_regularizer=regularizers.l2(0.1)),\n",
        "    Dropout(rate=0.1),\n",
        "    Dense(64, activation='relu',kernel_regularizer=regularizers.l2(0.1)),\n",
        "    Dropout(rate=0.1),\n",
        "    Dense(32, activation='relu',kernel_regularizer=regularizers.l2(0.1)),\n",
        "    #Dense(16, activation='relu'),\n",
        "    #Dense(8, activation='relu'),\n",
        "    Dense(16, activation='relu',kernel_regularizer=regularizers.l2(0.1)),\n",
        "    Dropout(rate=0.1),\n",
        "#     Dense(128, activation='relu'),\n",
        "#     Dense(64, activation='relu'),\n",
        "#     Dense(32, activation='relu'),\n",
        "#     Dense(16, activation='relu'),\n",
        "    Dense(1, activation='sigmoid')])"
      ],
      "execution_count": 0,
      "outputs": [
        {
          "output_type": "stream",
          "text": [
            "Using TensorFlow backend.\n"
          ],
          "name": "stderr"
        }
      ]
    },
    {
      "metadata": {
        "id": "lwGfUXxcU0d9",
        "colab_type": "code",
        "outputId": "9704dad7-5fc3-4887-bc6c-bdc081c96f8c",
        "colab": {
          "base_uri": "https://localhost:8080/",
          "height": 34
        }
      },
      "cell_type": "code",
      "source": [
        "from keras import backend as K\n",
        "K.tensorflow_backend._get_available_gpus()"
      ],
      "execution_count": 0,
      "outputs": [
        {
          "output_type": "execute_result",
          "data": {
            "text/plain": [
              "['/job:localhost/replica:0/task:0/device:GPU:0']"
            ]
          },
          "metadata": {
            "tags": []
          },
          "execution_count": 12
        }
      ]
    },
    {
      "metadata": {
        "id": "QXihHSESU0d_",
        "colab_type": "code",
        "colab": {}
      },
      "cell_type": "code",
      "source": [
        "#from tensorflow.python.client import device_lib\n",
        "#print(device_lib.list_local_devices())"
      ],
      "execution_count": 0,
      "outputs": []
    },
    {
      "metadata": {
        "scrolled": true,
        "id": "go0eN3shU0eC",
        "colab_type": "code",
        "outputId": "5889635c-6c39-49a7-e42e-9606f252e7f1",
        "colab": {
          "base_uri": "https://localhost:8080/",
          "height": 504
        }
      },
      "cell_type": "code",
      "source": [
        "model.compile(loss='binary_crossentropy', optimizer=Adam(0.01), metrics=['accuracy'])\n",
        "model.summary()"
      ],
      "execution_count": 0,
      "outputs": [
        {
          "output_type": "stream",
          "text": [
            "_________________________________________________________________\n",
            "Layer (type)                 Output Shape              Param #   \n",
            "=================================================================\n",
            "dense_1 (Dense)              (None, 256)               2816      \n",
            "_________________________________________________________________\n",
            "batch_normalization_1 (Batch (None, 256)               1024      \n",
            "_________________________________________________________________\n",
            "dropout_1 (Dropout)          (None, 256)               0         \n",
            "_________________________________________________________________\n",
            "dense_2 (Dense)              (None, 128)               32896     \n",
            "_________________________________________________________________\n",
            "dropout_2 (Dropout)          (None, 128)               0         \n",
            "_________________________________________________________________\n",
            "dense_3 (Dense)              (None, 64)                8256      \n",
            "_________________________________________________________________\n",
            "dropout_3 (Dropout)          (None, 64)                0         \n",
            "_________________________________________________________________\n",
            "dense_4 (Dense)              (None, 32)                2080      \n",
            "_________________________________________________________________\n",
            "dense_5 (Dense)              (None, 16)                528       \n",
            "_________________________________________________________________\n",
            "dropout_4 (Dropout)          (None, 16)                0         \n",
            "_________________________________________________________________\n",
            "dense_6 (Dense)              (None, 1)                 17        \n",
            "=================================================================\n",
            "Total params: 47,617\n",
            "Trainable params: 47,105\n",
            "Non-trainable params: 512\n",
            "_________________________________________________________________\n"
          ],
          "name": "stdout"
        }
      ]
    },
    {
      "metadata": {
        "id": "vwGQH2jzRFb-",
        "colab_type": "text"
      },
      "cell_type": "markdown",
      "source": [
        ""
      ]
    },
    {
      "metadata": {
        "scrolled": false,
        "id": "hWl5hapIU0eE",
        "colab_type": "code",
        "outputId": "74d8fd7c-9d13-4094-861d-8793a39e80ec",
        "colab": {
          "base_uri": "https://localhost:8080/",
          "height": 3394
        }
      },
      "cell_type": "code",
      "source": [
        "log = model.fit(X_train, y_train, epochs=100, batch_size=256, validation_data=[X_val, y_val])"
      ],
      "execution_count": 0,
      "outputs": [
        {
          "output_type": "stream",
          "text": [
            "Train on 13494 samples, validate on 5784 samples\n",
            "Epoch 1/100\n",
            "13494/13494 [==============================] - 1s 50us/step - loss: 0.5599 - acc: 0.7592 - val_loss: 0.5436 - val_acc: 0.7593\n",
            "Epoch 2/100\n",
            "13494/13494 [==============================] - 1s 50us/step - loss: 0.5571 - acc: 0.7619 - val_loss: 0.5739 - val_acc: 0.7450\n",
            "Epoch 3/100\n",
            "13494/13494 [==============================] - 1s 52us/step - loss: 0.5665 - acc: 0.7557 - val_loss: 0.5553 - val_acc: 0.7597\n",
            "Epoch 4/100\n",
            "13494/13494 [==============================] - 1s 49us/step - loss: 0.5629 - acc: 0.7577 - val_loss: 0.5608 - val_acc: 0.7588\n",
            "Epoch 5/100\n",
            "13494/13494 [==============================] - 1s 50us/step - loss: 0.5609 - acc: 0.7591 - val_loss: 0.5701 - val_acc: 0.7540\n",
            "Epoch 6/100\n",
            "13494/13494 [==============================] - 1s 51us/step - loss: 0.5634 - acc: 0.7568 - val_loss: 0.5607 - val_acc: 0.7561\n",
            "Epoch 7/100\n",
            "13494/13494 [==============================] - 1s 49us/step - loss: 0.5666 - acc: 0.7577 - val_loss: 0.5437 - val_acc: 0.7604\n",
            "Epoch 8/100\n",
            "13494/13494 [==============================] - 1s 50us/step - loss: 0.5632 - acc: 0.7581 - val_loss: 0.5554 - val_acc: 0.7616\n",
            "Epoch 9/100\n",
            "13494/13494 [==============================] - 1s 51us/step - loss: 0.5646 - acc: 0.7585 - val_loss: 0.5440 - val_acc: 0.7633\n",
            "Epoch 10/100\n",
            "13494/13494 [==============================] - 1s 50us/step - loss: 0.5600 - acc: 0.7557 - val_loss: 0.5984 - val_acc: 0.7490\n",
            "Epoch 11/100\n",
            "13494/13494 [==============================] - 1s 52us/step - loss: 0.5606 - acc: 0.7554 - val_loss: 0.5450 - val_acc: 0.7611\n",
            "Epoch 12/100\n",
            "13494/13494 [==============================] - 1s 51us/step - loss: 0.5616 - acc: 0.7585 - val_loss: 0.5433 - val_acc: 0.7602\n",
            "Epoch 13/100\n",
            "13494/13494 [==============================] - 1s 50us/step - loss: 0.5572 - acc: 0.7601 - val_loss: 0.5470 - val_acc: 0.7588\n",
            "Epoch 14/100\n",
            "13494/13494 [==============================] - 1s 52us/step - loss: 0.5570 - acc: 0.7568 - val_loss: 0.5397 - val_acc: 0.7647\n",
            "Epoch 15/100\n",
            "13494/13494 [==============================] - 1s 51us/step - loss: 0.5597 - acc: 0.7602 - val_loss: 0.5478 - val_acc: 0.7571\n",
            "Epoch 16/100\n",
            "13494/13494 [==============================] - 1s 50us/step - loss: 0.5663 - acc: 0.7568 - val_loss: 0.5432 - val_acc: 0.7637\n",
            "Epoch 17/100\n",
            "13494/13494 [==============================] - 1s 50us/step - loss: 0.5667 - acc: 0.7594 - val_loss: 0.5750 - val_acc: 0.7635\n",
            "Epoch 18/100\n",
            "13494/13494 [==============================] - 1s 51us/step - loss: 0.5598 - acc: 0.7577 - val_loss: 0.5489 - val_acc: 0.7623\n",
            "Epoch 19/100\n",
            "13494/13494 [==============================] - 1s 49us/step - loss: 0.5634 - acc: 0.7574 - val_loss: 0.5466 - val_acc: 0.7643\n",
            "Epoch 20/100\n",
            "13494/13494 [==============================] - 1s 50us/step - loss: 0.5568 - acc: 0.7586 - val_loss: 0.5506 - val_acc: 0.7590\n",
            "Epoch 21/100\n",
            "13494/13494 [==============================] - 1s 50us/step - loss: 0.5659 - acc: 0.7598 - val_loss: 0.5633 - val_acc: 0.7557\n",
            "Epoch 22/100\n",
            "13494/13494 [==============================] - 1s 50us/step - loss: 0.5716 - acc: 0.7549 - val_loss: 0.5580 - val_acc: 0.7614\n",
            "Epoch 23/100\n",
            "13494/13494 [==============================] - 1s 50us/step - loss: 0.5874 - acc: 0.7572 - val_loss: 0.5506 - val_acc: 0.7640\n",
            "Epoch 24/100\n",
            "13494/13494 [==============================] - 1s 50us/step - loss: 0.5640 - acc: 0.7580 - val_loss: 0.5742 - val_acc: 0.7612\n",
            "Epoch 25/100\n",
            "13494/13494 [==============================] - 1s 51us/step - loss: 0.5645 - acc: 0.7558 - val_loss: 0.5504 - val_acc: 0.7581\n",
            "Epoch 26/100\n",
            "13494/13494 [==============================] - 1s 51us/step - loss: 0.5640 - acc: 0.7560 - val_loss: 0.5714 - val_acc: 0.7621\n",
            "Epoch 27/100\n",
            "13494/13494 [==============================] - 1s 51us/step - loss: 0.5575 - acc: 0.7596 - val_loss: 0.5473 - val_acc: 0.7640\n",
            "Epoch 28/100\n",
            "13494/13494 [==============================] - 1s 50us/step - loss: 0.5565 - acc: 0.7606 - val_loss: 0.5449 - val_acc: 0.7619\n",
            "Epoch 29/100\n",
            "13494/13494 [==============================] - 1s 50us/step - loss: 0.5573 - acc: 0.7558 - val_loss: 0.5456 - val_acc: 0.7611\n",
            "Epoch 30/100\n",
            "13494/13494 [==============================] - 1s 49us/step - loss: 0.5550 - acc: 0.7584 - val_loss: 0.5960 - val_acc: 0.7341\n",
            "Epoch 31/100\n",
            "13494/13494 [==============================] - 1s 51us/step - loss: 0.5729 - acc: 0.7584 - val_loss: 0.5556 - val_acc: 0.7569\n",
            "Epoch 32/100\n",
            "13494/13494 [==============================] - 1s 51us/step - loss: 0.5636 - acc: 0.7606 - val_loss: 0.5651 - val_acc: 0.7533\n",
            "Epoch 33/100\n",
            "13494/13494 [==============================] - 1s 51us/step - loss: 0.5668 - acc: 0.7586 - val_loss: 0.5924 - val_acc: 0.7441\n",
            "Epoch 34/100\n",
            "13494/13494 [==============================] - 1s 51us/step - loss: 0.5537 - acc: 0.7576 - val_loss: 0.5443 - val_acc: 0.7640\n",
            "Epoch 35/100\n",
            "13494/13494 [==============================] - 1s 51us/step - loss: 0.5580 - acc: 0.7609 - val_loss: 0.5547 - val_acc: 0.7645\n",
            "Epoch 36/100\n",
            "13494/13494 [==============================] - 1s 51us/step - loss: 0.5632 - acc: 0.7609 - val_loss: 0.5542 - val_acc: 0.7654\n",
            "Epoch 37/100\n",
            "13494/13494 [==============================] - 1s 50us/step - loss: 0.5576 - acc: 0.7620 - val_loss: 0.5652 - val_acc: 0.7509\n",
            "Epoch 38/100\n",
            "13494/13494 [==============================] - 1s 51us/step - loss: 0.5609 - acc: 0.7583 - val_loss: 0.5511 - val_acc: 0.7661\n",
            "Epoch 39/100\n",
            "13494/13494 [==============================] - 1s 51us/step - loss: 0.5613 - acc: 0.7625 - val_loss: 0.5535 - val_acc: 0.7559\n",
            "Epoch 40/100\n",
            "13494/13494 [==============================] - 1s 51us/step - loss: 0.5685 - acc: 0.7616 - val_loss: 0.5553 - val_acc: 0.7635\n",
            "Epoch 41/100\n",
            "13494/13494 [==============================] - 1s 51us/step - loss: 0.5776 - acc: 0.7575 - val_loss: 0.5641 - val_acc: 0.7628\n",
            "Epoch 42/100\n",
            "13494/13494 [==============================] - 1s 51us/step - loss: 0.5576 - acc: 0.7577 - val_loss: 0.5523 - val_acc: 0.7552\n",
            "Epoch 43/100\n",
            "13494/13494 [==============================] - 1s 50us/step - loss: 0.5491 - acc: 0.7605 - val_loss: 0.5358 - val_acc: 0.7623\n",
            "Epoch 44/100\n",
            "13494/13494 [==============================] - 1s 51us/step - loss: 0.5759 - acc: 0.7574 - val_loss: 0.5470 - val_acc: 0.7600\n",
            "Epoch 45/100\n",
            "13494/13494 [==============================] - 1s 51us/step - loss: 0.5518 - acc: 0.7650 - val_loss: 0.5433 - val_acc: 0.7612\n",
            "Epoch 46/100\n",
            "13494/13494 [==============================] - 1s 51us/step - loss: 0.5554 - acc: 0.7572 - val_loss: 0.5408 - val_acc: 0.7682\n",
            "Epoch 47/100\n",
            "13494/13494 [==============================] - 1s 50us/step - loss: 0.5588 - acc: 0.7575 - val_loss: 0.5599 - val_acc: 0.7498\n",
            "Epoch 48/100\n",
            "13494/13494 [==============================] - 1s 50us/step - loss: 0.5660 - acc: 0.7562 - val_loss: 0.5585 - val_acc: 0.7621\n",
            "Epoch 49/100\n",
            "13494/13494 [==============================] - 1s 51us/step - loss: 0.5606 - acc: 0.7620 - val_loss: 0.5513 - val_acc: 0.7688\n",
            "Epoch 50/100\n",
            "13494/13494 [==============================] - 1s 51us/step - loss: 0.5525 - acc: 0.7626 - val_loss: 0.5489 - val_acc: 0.7638\n",
            "Epoch 51/100\n",
            "13494/13494 [==============================] - 1s 52us/step - loss: 0.5573 - acc: 0.7597 - val_loss: 0.5629 - val_acc: 0.7623\n",
            "Epoch 52/100\n",
            "13494/13494 [==============================] - 1s 50us/step - loss: 0.5608 - acc: 0.7626 - val_loss: 0.5469 - val_acc: 0.7600\n",
            "Epoch 53/100\n",
            "13494/13494 [==============================] - 1s 51us/step - loss: 0.5623 - acc: 0.7602 - val_loss: 0.5422 - val_acc: 0.7599\n",
            "Epoch 54/100\n",
            "13494/13494 [==============================] - 1s 51us/step - loss: 0.5580 - acc: 0.7583 - val_loss: 0.5496 - val_acc: 0.7678\n",
            "Epoch 55/100\n",
            "13494/13494 [==============================] - 1s 50us/step - loss: 0.5516 - acc: 0.7603 - val_loss: 0.5456 - val_acc: 0.7616\n",
            "Epoch 56/100\n",
            "13494/13494 [==============================] - 1s 50us/step - loss: 0.5496 - acc: 0.7629 - val_loss: 0.5565 - val_acc: 0.7595\n",
            "Epoch 57/100\n",
            "13494/13494 [==============================] - 1s 51us/step - loss: 0.5570 - acc: 0.7609 - val_loss: 0.5462 - val_acc: 0.7554\n",
            "Epoch 58/100\n",
            "13494/13494 [==============================] - 1s 51us/step - loss: 0.5522 - acc: 0.7604 - val_loss: 0.5468 - val_acc: 0.7645\n",
            "Epoch 59/100\n",
            "13494/13494 [==============================] - 1s 51us/step - loss: 0.5573 - acc: 0.7607 - val_loss: 0.5798 - val_acc: 0.7659\n",
            "Epoch 60/100\n",
            "13494/13494 [==============================] - 1s 51us/step - loss: 0.5674 - acc: 0.7566 - val_loss: 0.5474 - val_acc: 0.7687\n",
            "Epoch 61/100\n",
            "13494/13494 [==============================] - 1s 50us/step - loss: 0.5588 - acc: 0.7613 - val_loss: 0.5546 - val_acc: 0.7562\n",
            "Epoch 62/100\n",
            "13494/13494 [==============================] - 1s 51us/step - loss: 0.5815 - acc: 0.7546 - val_loss: 0.5551 - val_acc: 0.7578\n",
            "Epoch 63/100\n",
            "13494/13494 [==============================] - 1s 51us/step - loss: 0.5586 - acc: 0.7564 - val_loss: 0.5790 - val_acc: 0.7588\n",
            "Epoch 64/100\n",
            "13494/13494 [==============================] - 1s 50us/step - loss: 0.5725 - acc: 0.7584 - val_loss: 0.5423 - val_acc: 0.7609\n",
            "Epoch 65/100\n",
            "13494/13494 [==============================] - 1s 51us/step - loss: 0.5566 - acc: 0.7593 - val_loss: 0.5714 - val_acc: 0.7590\n",
            "Epoch 66/100\n",
            "13494/13494 [==============================] - 1s 51us/step - loss: 0.5682 - acc: 0.7604 - val_loss: 0.6048 - val_acc: 0.7640\n",
            "Epoch 67/100\n",
            "13494/13494 [==============================] - 1s 50us/step - loss: 0.5609 - acc: 0.7614 - val_loss: 0.5474 - val_acc: 0.7574\n",
            "Epoch 68/100\n",
            "13494/13494 [==============================] - 1s 51us/step - loss: 0.5518 - acc: 0.7591 - val_loss: 0.5452 - val_acc: 0.7680\n",
            "Epoch 69/100\n",
            "13494/13494 [==============================] - 1s 50us/step - loss: 0.5753 - acc: 0.7572 - val_loss: 0.5505 - val_acc: 0.7611\n",
            "Epoch 70/100\n",
            "13494/13494 [==============================] - 1s 50us/step - loss: 0.5573 - acc: 0.7605 - val_loss: 0.5544 - val_acc: 0.7510\n",
            "Epoch 71/100\n",
            "13494/13494 [==============================] - 1s 52us/step - loss: 0.5481 - acc: 0.7614 - val_loss: 0.5341 - val_acc: 0.7668\n",
            "Epoch 72/100\n",
            "13494/13494 [==============================] - 1s 56us/step - loss: 0.5568 - acc: 0.7628 - val_loss: 0.5429 - val_acc: 0.7618\n",
            "Epoch 73/100\n",
            "13494/13494 [==============================] - 1s 49us/step - loss: 0.5611 - acc: 0.7621 - val_loss: 0.5399 - val_acc: 0.7619\n",
            "Epoch 74/100\n",
            "13494/13494 [==============================] - 1s 50us/step - loss: 0.5479 - acc: 0.7601 - val_loss: 0.5414 - val_acc: 0.7643\n",
            "Epoch 75/100\n",
            "13494/13494 [==============================] - 1s 50us/step - loss: 0.5546 - acc: 0.7589 - val_loss: 0.5427 - val_acc: 0.7652\n",
            "Epoch 76/100\n",
            "13494/13494 [==============================] - 1s 49us/step - loss: 0.5452 - acc: 0.7646 - val_loss: 0.5422 - val_acc: 0.7631\n",
            "Epoch 77/100\n",
            "13494/13494 [==============================] - 1s 51us/step - loss: 0.5564 - acc: 0.7582 - val_loss: 0.5379 - val_acc: 0.7687\n",
            "Epoch 78/100\n",
            "13494/13494 [==============================] - 1s 52us/step - loss: 0.5584 - acc: 0.7578 - val_loss: 0.5676 - val_acc: 0.7459\n",
            "Epoch 79/100\n",
            "13494/13494 [==============================] - 1s 50us/step - loss: 0.5562 - acc: 0.7614 - val_loss: 0.5364 - val_acc: 0.7631\n",
            "Epoch 80/100\n",
            "13494/13494 [==============================] - 1s 50us/step - loss: 0.5527 - acc: 0.7586 - val_loss: 0.5395 - val_acc: 0.7647\n",
            "Epoch 81/100\n",
            "13494/13494 [==============================] - 1s 51us/step - loss: 0.5552 - acc: 0.7620 - val_loss: 0.5724 - val_acc: 0.7626\n",
            "Epoch 82/100\n",
            "13494/13494 [==============================] - 1s 50us/step - loss: 0.5572 - acc: 0.7628 - val_loss: 0.5435 - val_acc: 0.7614\n",
            "Epoch 83/100\n",
            "13494/13494 [==============================] - 1s 50us/step - loss: 0.5451 - acc: 0.7621 - val_loss: 0.5422 - val_acc: 0.7640\n",
            "Epoch 84/100\n",
            "13494/13494 [==============================] - 1s 51us/step - loss: 0.5477 - acc: 0.7635 - val_loss: 0.5365 - val_acc: 0.7694\n",
            "Epoch 85/100\n",
            "13494/13494 [==============================] - 1s 50us/step - loss: 0.5562 - acc: 0.7619 - val_loss: 0.5427 - val_acc: 0.7654\n",
            "Epoch 86/100\n",
            "13494/13494 [==============================] - 1s 50us/step - loss: 0.5569 - acc: 0.7600 - val_loss: 0.5559 - val_acc: 0.7666\n",
            "Epoch 87/100\n",
            "13494/13494 [==============================] - 1s 51us/step - loss: 0.5552 - acc: 0.7610 - val_loss: 0.5536 - val_acc: 0.7545\n",
            "Epoch 88/100\n",
            "13494/13494 [==============================] - 1s 49us/step - loss: 0.5479 - acc: 0.7594 - val_loss: 0.5473 - val_acc: 0.7545\n",
            "Epoch 89/100\n",
            "13494/13494 [==============================] - 1s 50us/step - loss: 0.5547 - acc: 0.7619 - val_loss: 0.5374 - val_acc: 0.7680\n",
            "Epoch 90/100\n",
            "13494/13494 [==============================] - 1s 51us/step - loss: 0.5471 - acc: 0.7619 - val_loss: 0.5372 - val_acc: 0.7645\n",
            "Epoch 91/100\n",
            "13494/13494 [==============================] - 1s 50us/step - loss: 0.5462 - acc: 0.7612 - val_loss: 0.5371 - val_acc: 0.7623\n",
            "Epoch 92/100\n",
            "13494/13494 [==============================] - 1s 50us/step - loss: 0.5506 - acc: 0.7597 - val_loss: 0.5441 - val_acc: 0.7654\n",
            "Epoch 93/100\n",
            "13494/13494 [==============================] - 1s 50us/step - loss: 0.5479 - acc: 0.7626 - val_loss: 0.5307 - val_acc: 0.7656\n",
            "Epoch 94/100\n",
            "13494/13494 [==============================] - 1s 50us/step - loss: 0.5492 - acc: 0.7622 - val_loss: 0.5725 - val_acc: 0.7618\n",
            "Epoch 95/100\n",
            "13494/13494 [==============================] - 1s 50us/step - loss: 0.5557 - acc: 0.7635 - val_loss: 0.5439 - val_acc: 0.7649\n",
            "Epoch 96/100\n",
            "13494/13494 [==============================] - 1s 51us/step - loss: 0.5509 - acc: 0.7657 - val_loss: 0.5344 - val_acc: 0.7661\n",
            "Epoch 97/100\n",
            "13494/13494 [==============================] - 1s 50us/step - loss: 0.5544 - acc: 0.7612 - val_loss: 0.5396 - val_acc: 0.7614\n",
            "Epoch 98/100\n",
            "13494/13494 [==============================] - 1s 50us/step - loss: 0.5429 - acc: 0.7628 - val_loss: 0.5438 - val_acc: 0.7600\n",
            "Epoch 99/100\n",
            "13494/13494 [==============================] - 1s 51us/step - loss: 0.5524 - acc: 0.7625 - val_loss: 0.5512 - val_acc: 0.7656\n",
            "Epoch 100/100\n",
            "13494/13494 [==============================] - 1s 49us/step - loss: 0.5480 - acc: 0.7640 - val_loss: 0.5476 - val_acc: 0.7583\n"
          ],
          "name": "stdout"
        }
      ]
    },
    {
      "metadata": {
        "id": "vABzplc0U0eM",
        "colab_type": "code",
        "colab": {}
      },
      "cell_type": "code",
      "source": [
        "def show_results(log):\n",
        "    fig, axes = plt.subplots(1, 2, figsize=(14,4))\n",
        "    ax1, ax2 = axes\n",
        "    ax1.plot(log.history['loss'], label='train')\n",
        "    ax1.plot(log.history['val_loss'], label='validation')\n",
        "    ax1.set_xlabel('epoch'); ax1.set_ylabel('loss')\n",
        "    ax2.plot(log.history['acc'], label='train')\n",
        "    ax2.plot(log.history['val_acc'], label='validation')\n",
        "    ax2.set_xlabel('epoch'); ax2.set_ylabel('accuracy')\n",
        "    for ax in axes: ax.legend()\n",
        "show_results(log)"
      ],
      "execution_count": 0,
      "outputs": []
    },
    {
      "metadata": {
        "id": "1KVoZs1eU0eO",
        "colab_type": "code",
        "colab": {}
      },
      "cell_type": "code",
      "source": [
        "show_results(log)"
      ],
      "execution_count": 0,
      "outputs": []
    },
    {
      "metadata": {
        "id": "8dB2TaMlU0eT",
        "colab_type": "code",
        "colab": {}
      },
      "cell_type": "code",
      "source": [
        "from sklearn.metrics import roc_curve\n",
        "y_pred_keras = model.predict(X_val).ravel()\n",
        "fpr_keras, tpr_keras, thresholds_keras = roc_curve(y_val, y_pred_keras)"
      ],
      "execution_count": 0,
      "outputs": []
    },
    {
      "metadata": {
        "id": "2zoGRFPDU0eV",
        "colab_type": "code",
        "colab": {}
      },
      "cell_type": "code",
      "source": [
        "from sklearn.metrics import auc\n",
        "auc_keras = auc(fpr_keras, tpr_keras)\n",
        "auc_keras"
      ],
      "execution_count": 0,
      "outputs": []
    },
    {
      "metadata": {
        "id": "K_UKnXVbU0eX",
        "colab_type": "code",
        "colab": {}
      },
      "cell_type": "code",
      "source": [
        "plt.figure(1)\n",
        "plt.plot([0, 1], [0, 1], 'k--')\n",
        "plt.plot(fpr_keras, tpr_keras, label='Keras (area = {:.3f})'.format(auc_keras))\n",
        "plt.plot(fpr_rf, tpr_rf, label='RF (area = {:.3f})'.format(auc_rf))\n",
        "plt.xlabel('False positive rate')\n",
        "plt.ylabel('True positive rate')\n",
        "plt.title('ROC curve')\n",
        "plt.legend(loc='best')\n",
        "plt.show()\n",
        "# Zoom in view of the upper left corner.\n",
        "plt.figure(2)\n",
        "plt.xlim(0, 0.2)\n",
        "plt.ylim(0.8, 1)\n",
        "plt.plot([0, 1], [0, 1], 'k--')\n",
        "plt.plot(fpr_keras, tpr_keras, label='Keras (area = {:.3f})'.format(auc_keras))\n",
        "plt.plot(fpr_rf, tpr_rf, label='RF (area = {:.3f})'.format(auc_rf))\n",
        "plt.xlabel('False positive rate')\n",
        "plt.ylabel('True positive rate')\n",
        "plt.title('ROC curve (zoomed in at top left)')\n",
        "plt.legend(loc='best')\n",
        "plt.show()"
      ],
      "execution_count": 0,
      "outputs": []
    },
    {
      "metadata": {
        "id": "jCOOPAYBU0eb",
        "colab_type": "code",
        "colab": {}
      },
      "cell_type": "code",
      "source": [
        ""
      ],
      "execution_count": 0,
      "outputs": []
    }
  ]
}